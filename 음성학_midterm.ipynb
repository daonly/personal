{
  "nbformat": 4,
  "nbformat_minor": 0,
  "metadata": {
    "colab": {
      "name": "음성학 midterm.ipynb",
      "provenance": [],
      "collapsed_sections": [],
      "authorship_tag": "ABX9TyPkjAnMBGHK97P10rbCh2Y3",
      "include_colab_link": true
    },
    "kernelspec": {
      "name": "python3",
      "display_name": "Python 3"
    },
    "language_info": {
      "name": "python"
    }
  },
  "cells": [
    {
      "cell_type": "markdown",
      "metadata": {
        "id": "view-in-github",
        "colab_type": "text"
      },
      "source": [
        "<a href=\"https://colab.research.google.com/github/daonly/personal/blob/main/%EC%9D%8C%EC%84%B1%ED%95%99_midterm.ipynb\" target=\"_parent\"><img src=\"https://colab.research.google.com/assets/colab-badge.svg\" alt=\"Open In Colab\"/></a>"
      ]
    },
    {
      "cell_type": "markdown",
      "metadata": {
        "id": "LRkJhbDhkc_y"
      },
      "source": [
        "###Variables"
      ]
    },
    {
      "cell_type": "code",
      "metadata": {
        "colab": {
          "base_uri": "https://localhost:8080/"
        },
        "id": "P0XxtP1nwLlx",
        "outputId": "01895401-2bee-42c2-dd70-4073b7901e5c"
      },
      "source": [
        "a=1.5\n",
        "print(type(a))\n",
        "type(a)"
      ],
      "execution_count": null,
      "outputs": [
        {
          "output_type": "stream",
          "text": [
            "<class 'float'>\n"
          ],
          "name": "stdout"
        },
        {
          "output_type": "execute_result",
          "data": {
            "text/plain": [
              "float"
            ]
          },
          "metadata": {
            "tags": []
          },
          "execution_count": 8
        }
      ]
    },
    {
      "cell_type": "code",
      "metadata": {
        "colab": {
          "base_uri": "https://localhost:8080/"
        },
        "id": "aUWhL0DqRqUX",
        "outputId": "2911d68e-194c-47db-f8e0-30a5b90ebd7c"
      },
      "source": [
        "a = (1,'2', [3, '4']); print(type(a)); print(a[2][1]) #index 요렇게 사용도 가능."
      ],
      "execution_count": null,
      "outputs": [
        {
          "output_type": "stream",
          "text": [
            "<class 'tuple'>\n",
            "4\n"
          ],
          "name": "stdout"
        }
      ]
    },
    {
      "cell_type": "code",
      "metadata": {
        "colab": {
          "base_uri": "https://localhost:8080/"
        },
        "id": "RO1WEYuybbzO",
        "outputId": "5d94593a-7c29-422f-c805-36a815636d67"
      },
      "source": [
        "a =\t{\"a\": \"apple\", \"b\": \"orange\", \"c\": 2014.5} #dic은 중괄호 사용.\n",
        "#Key에는 str, int, float 올 수 있고, Value에는 list도 ㄱㄴ. \n",
        "print(type(a))\n",
        "print(a[\"a\"]) #얘는 순서 개념이 없으므로 index 대신 key 값 넣음.\n",
        "a['b']='banana' #key assignment도 바꿀 수 ㅇ. value assignment는 x.\n",
        "print(a['b'])"
      ],
      "execution_count": null,
      "outputs": [
        {
          "output_type": "stream",
          "text": [
            "<class 'dict'>\n",
            "apple\n",
            "banana\n"
          ],
          "name": "stdout"
        }
      ]
    },
    {
      "cell_type": "code",
      "metadata": {
        "colab": {
          "base_uri": "https://localhost:8080/",
          "height": 53
        },
        "id": "0h7iykYZfFJ_",
        "outputId": "bc297b8a-3b1e-4938-aa2e-edfeb31ef8b1"
      },
      "source": [
        "x=[{'i':'ice','j':'juice'},{'q':'queen'}]\n",
        "print(type(x))\n",
        "x[1]['q'] #index 이렇게 찾을 수 ㅇ."
      ],
      "execution_count": null,
      "outputs": [
        {
          "output_type": "stream",
          "text": [
            "<class 'list'>\n"
          ],
          "name": "stdout"
        },
        {
          "output_type": "execute_result",
          "data": {
            "application/vnd.google.colaboratory.intrinsic+json": {
              "type": "string"
            },
            "text/plain": [
              "'queen'"
            ]
          },
          "metadata": {
            "tags": []
          },
          "execution_count": 14
        }
      ]
    },
    {
      "cell_type": "markdown",
      "metadata": {
        "id": "RkYlgEEDB7rV"
      },
      "source": [
        "###String"
      ]
    },
    {
      "cell_type": "code",
      "metadata": {
        "colab": {
          "base_uri": "https://localhost:8080/",
          "height": 88
        },
        "id": "9R4wWPcXB_en",
        "outputId": "9250b836-8387-438a-81d6-56d09207d046"
      },
      "source": [
        "s='abcdef'\n",
        "print(s[1:3], s[1:], s[:3],s[:]) #s[a:b]하면 str s의 a번째부터 b번째 \"이전\" item까지에 접근!\n",
        "print(s[-4:7]) #b에 넘치는 수 넣으면 그냥 끝까지 다 출력됨.\n",
        "print(s[-3:-1]) #이렇게 넣을 수도 ㅇ. 반대는 안됨...\n",
        "#그냥 왼쪽부터 차례대로 출력이 나올 수만 있으면 어떤 수 넣든 ㄴㅅㄱ인듯...?\n",
        "s[-8:3] #와;; 이것도 되네..."
      ],
      "execution_count": null,
      "outputs": [
        {
          "output_type": "stream",
          "text": [
            "bc bcdef abc abcdef\n",
            "cdef\n",
            "de\n"
          ],
          "name": "stdout"
        },
        {
          "output_type": "execute_result",
          "data": {
            "application/vnd.google.colaboratory.intrinsic+json": {
              "type": "string"
            },
            "text/plain": [
              "'abc'"
            ]
          },
          "metadata": {
            "tags": []
          },
          "execution_count": 26
        }
      ]
    },
    {
      "cell_type": "code",
      "metadata": {
        "colab": {
          "base_uri": "https://localhost:8080/",
          "height": 35
        },
        "id": "6idvsACzFpaJ",
        "outputId": "b243f8f6-9285-4d28-900b-0c652ab67d3a"
      },
      "source": [
        "s[1]+s[3]+s[4:]*10 \n",
        "#str에도 더하기와 곱하기를 할 수 있음. 더하기는 이어붙이기, 곱하기는 반복"
      ],
      "execution_count": null,
      "outputs": [
        {
          "output_type": "execute_result",
          "data": {
            "application/vnd.google.colaboratory.intrinsic+json": {
              "type": "string"
            },
            "text/plain": [
              "'bdefefefefefefefefefef'"
            ]
          },
          "metadata": {
            "tags": []
          },
          "execution_count": 27
        }
      ]
    },
    {
      "cell_type": "code",
      "metadata": {
        "colab": {
          "base_uri": "https://localhost:8080/"
        },
        "id": "eCYvj1xjHRau",
        "outputId": "fc456ef7-b773-4101-954b-08cce3561539"
      },
      "source": [
        "s.upper()\n",
        "print(s.upper())\n",
        "#str s의 모든 글자를 대문자화. 얘는 일시적으로 보여줄 뿐이지 변수를 변경하진 X.\n",
        "\n",
        "t='this is a new house \\n bulit this year' #new line. 줄 바꾸기.\n",
        "print(t)"
      ],
      "execution_count": null,
      "outputs": [
        {
          "output_type": "stream",
          "text": [
            "ABCDEF\n",
            "this is a new house \n",
            " bulit this year\n"
          ],
          "name": "stdout"
        }
      ]
    },
    {
      "cell_type": "code",
      "metadata": {
        "colab": {
          "base_uri": "https://localhost:8080/"
        },
        "id": "8ziJYH-BIAQc",
        "outputId": "1d0d4748-e6c5-49c4-a387-fcab4874d6d5"
      },
      "source": [
        "p=t.find('new') #t에서 'new'의 first instance의 starting index가 무엇이냐!\n",
        "print(p)\n",
        "\n",
        "q=t.rfind('bulit') #t에서 'built'의 오른쪽에서 첫번째 instance의 starting index가 무엇이냐!\n",
        "print(q)\n",
        "\n",
        "r=t.find('that') #없으면 -1 출력.\n",
        "r"
      ],
      "execution_count": null,
      "outputs": [
        {
          "output_type": "stream",
          "text": [
            "10\n",
            "22\n"
          ],
          "name": "stdout"
        },
        {
          "output_type": "execute_result",
          "data": {
            "text/plain": [
              "-1"
            ]
          },
          "metadata": {
            "tags": []
          },
          "execution_count": 34
        }
      ]
    },
    {
      "cell_type": "code",
      "metadata": {
        "colab": {
          "base_uri": "https://localhost:8080/",
          "height": 257
        },
        "id": "z5qGn4ufMAVR",
        "outputId": "753f5e22-87d5-40b7-bfee-2c2d5687edaa"
      },
      "source": [
        "s=t.index('this')\n",
        "print(s)\n",
        "\n",
        "u=t.rindex('this')\n",
        "print(u)\n",
        "\n",
        "v=t.rindex('that') #얘네 다 find랑 비슷한데 얘는 없으면 아예 ValueError 나버림.\n",
        "v"
      ],
      "execution_count": null,
      "outputs": [
        {
          "output_type": "stream",
          "text": [
            "0\n",
            "28\n"
          ],
          "name": "stdout"
        },
        {
          "output_type": "error",
          "ename": "ValueError",
          "evalue": "ignored",
          "traceback": [
            "\u001b[0;31m---------------------------------------------------------------------------\u001b[0m",
            "\u001b[0;31mValueError\u001b[0m                                Traceback (most recent call last)",
            "\u001b[0;32m<ipython-input-37-a7b62ea28c45>\u001b[0m in \u001b[0;36m<module>\u001b[0;34m()\u001b[0m\n\u001b[1;32m      5\u001b[0m \u001b[0mprint\u001b[0m\u001b[0;34m(\u001b[0m\u001b[0mu\u001b[0m\u001b[0;34m)\u001b[0m\u001b[0;34m\u001b[0m\u001b[0;34m\u001b[0m\u001b[0m\n\u001b[1;32m      6\u001b[0m \u001b[0;34m\u001b[0m\u001b[0m\n\u001b[0;32m----> 7\u001b[0;31m \u001b[0mv\u001b[0m\u001b[0;34m=\u001b[0m\u001b[0mt\u001b[0m\u001b[0;34m.\u001b[0m\u001b[0mrindex\u001b[0m\u001b[0;34m(\u001b[0m\u001b[0;34m'that'\u001b[0m\u001b[0;34m)\u001b[0m\u001b[0;34m\u001b[0m\u001b[0;34m\u001b[0m\u001b[0m\n\u001b[0m\u001b[1;32m      8\u001b[0m \u001b[0mv\u001b[0m\u001b[0;34m\u001b[0m\u001b[0;34m\u001b[0m\u001b[0m\n",
            "\u001b[0;31mValueError\u001b[0m: substring not found"
          ]
        }
      ]
    },
    {
      "cell_type": "code",
      "metadata": {
        "colab": {
          "base_uri": "https://localhost:8080/",
          "height": 35
        },
        "id": "o4eYiOCwMvCL",
        "outputId": "2b0ed89c-df44-4835-e4f8-d038d1851b5b"
      },
      "source": [
        "s='   hi there  \\n' \n",
        "s=s.strip() #문자열 양 끝의 whitespace나 \\n 다 벗기고 깔끔하게 만듦.\n",
        "s"
      ],
      "execution_count": null,
      "outputs": [
        {
          "output_type": "execute_result",
          "data": {
            "application/vnd.google.colaboratory.intrinsic+json": {
              "type": "string"
            },
            "text/plain": [
              "'hi there'"
            ]
          },
          "metadata": {
            "tags": []
          },
          "execution_count": 41
        }
      ]
    },
    {
      "cell_type": "code",
      "metadata": {
        "colab": {
          "base_uri": "https://localhost:8080/",
          "height": 53
        },
        "id": "dv9qnWK7N3Yb",
        "outputId": "8ca6e5e9-fe3e-4698-c6ba-d927c53322d0"
      },
      "source": [
        "t='i love you'\n",
        "u=(t.split(' ')) #whitespace를 기준으로 t를 쪼개버리는 것. 출력은 list. tokenize.\n",
        "print(u)\n",
        "\n",
        "v=' '.join(u) #u의 items 사이사이를 space로 glueing하라는 것. 출력은 str.\n",
        "v\n",
        "#join에서 list의 instances는 모두 str이어야만 함!"
      ],
      "execution_count": null,
      "outputs": [
        {
          "output_type": "stream",
          "text": [
            "['i', 'love', 'you']\n"
          ],
          "name": "stdout"
        },
        {
          "output_type": "execute_result",
          "data": {
            "application/vnd.google.colaboratory.intrinsic+json": {
              "type": "string"
            },
            "text/plain": [
              "'i love you'"
            ]
          },
          "metadata": {
            "tags": []
          },
          "execution_count": 45
        }
      ]
    },
    {
      "cell_type": "code",
      "metadata": {
        "colab": {
          "base_uri": "https://localhost:8080/",
          "height": 35
        },
        "id": "06oKq9E_WE7S",
        "outputId": "89e95dd6-1b1d-4a34-f1f7-5090e634d054"
      },
      "source": [
        "w=t.replace('love','hate') #t의 'love'라는 instances를 모두 'hate'로 바꾸라는 것.\n",
        "w"
      ],
      "execution_count": null,
      "outputs": [
        {
          "output_type": "execute_result",
          "data": {
            "application/vnd.google.colaboratory.intrinsic+json": {
              "type": "string"
            },
            "text/plain": [
              "'i hate you'"
            ]
          },
          "metadata": {
            "tags": []
          },
          "execution_count": 46
        }
      ]
    },
    {
      "cell_type": "markdown",
      "metadata": {
        "id": "lSUl5SEtWiXi"
      },
      "source": [
        "### Syntax"
      ]
    },
    {
      "cell_type": "code",
      "metadata": {
        "colab": {
          "base_uri": "https://localhost:8080/"
        },
        "id": "GCDNTb3YXHlg",
        "outputId": "4eee6679-07c6-41e8-f83e-a7dd2973b703"
      },
      "source": [
        "x=range(9) #0부터 a-1까지의 정수로 만들어진 수열에 대해 조작을 가할 수 있음. input은 무조건 int\n",
        "print(x)\n",
        "y=list(x)\n",
        "y"
      ],
      "execution_count": null,
      "outputs": [
        {
          "output_type": "stream",
          "text": [
            "range(0, 9)\n"
          ],
          "name": "stdout"
        },
        {
          "output_type": "execute_result",
          "data": {
            "text/plain": [
              "[0, 1, 2, 3, 4, 5, 6, 7, 8]"
            ]
          },
          "metadata": {
            "tags": []
          },
          "execution_count": 50
        }
      ]
    },
    {
      "cell_type": "code",
      "metadata": {
        "colab": {
          "base_uri": "https://localhost:8080/"
        },
        "id": "J7rNCdqVZvtK",
        "outputId": "8913ecbb-561b-4e50-98bd-7dae79909596"
      },
      "source": [
        "x=range(-4,-1)\n",
        "list(x)"
      ],
      "execution_count": null,
      "outputs": [
        {
          "output_type": "execute_result",
          "data": {
            "text/plain": [
              "[-4, -3, -2]"
            ]
          },
          "metadata": {
            "tags": []
          },
          "execution_count": 53
        }
      ]
    },
    {
      "cell_type": "code",
      "metadata": {
        "colab": {
          "base_uri": "https://localhost:8080/"
        },
        "id": "VLzLsuSTZbFR",
        "outputId": "bb7ed130-1ad6-438e-b83a-7b1be3568709"
      },
      "source": [
        "x=range(3,8,2) #3부터 8 이전 것까지 2 간격으로 만들어라.\n",
        "y=list(x)\n",
        "y"
      ],
      "execution_count": null,
      "outputs": [
        {
          "output_type": "execute_result",
          "data": {
            "text/plain": [
              "[3, 5, 7]"
            ]
          },
          "metadata": {
            "tags": []
          },
          "execution_count": 52
        }
      ]
    },
    {
      "cell_type": "code",
      "metadata": {
        "colab": {
          "base_uri": "https://localhost:8080/"
        },
        "id": "CXv5xqYVaCzK",
        "outputId": "b62d2c02-925a-4d68-94ab-672ca880728b"
      },
      "source": [
        "a = [1, [2,2.5], 3, 'love']\n",
        "for i in range(len(a)): #a의 범위를 벗어나면 error. #콜론 잊지 말자!\n",
        "    print(a[i]) #indentation도 잊지 말자!\n",
        "print(len(a))"
      ],
      "execution_count": null,
      "outputs": [
        {
          "output_type": "stream",
          "text": [
            "1\n",
            "[2, 2.5]\n",
            "3\n",
            "love\n",
            "4\n"
          ],
          "name": "stdout"
        }
      ]
    },
    {
      "cell_type": "code",
      "metadata": {
        "colab": {
          "base_uri": "https://localhost:8080/"
        },
        "id": "XvM4S8PrarEj",
        "outputId": "c862d496-2004-4222-90e8-1c73ecddef08"
      },
      "source": [
        "for i in range(1, 3): #for문 안에 for문이 오면 어떤 순서로 실행되는지 주의!\n",
        "    for j in range(3, 6):\n",
        "        if j >=4:\n",
        "          print(i*j)\n",
        "        else:\n",
        "          print(i*j*10)"
      ],
      "execution_count": null,
      "outputs": [
        {
          "output_type": "stream",
          "text": [
            "30\n",
            "4\n",
            "5\n",
            "60\n",
            "8\n",
            "10\n"
          ],
          "name": "stdout"
        }
      ]
    },
    {
      "cell_type": "code",
      "metadata": {
        "colab": {
          "base_uri": "https://localhost:8080/"
        },
        "id": "fkNkLyvIbprZ",
        "outputId": "a2f30f4a-e83d-428c-94a0-cda5128bf77b"
      },
      "source": [
        "a = ['red', 'green', 'blue', 'purple']\n",
        "b = [i for i in a if len(i) >=4] #python 고유의 방식 #글자수에도 적용 가능!\n",
        "b"
      ],
      "execution_count": null,
      "outputs": [
        {
          "output_type": "execute_result",
          "data": {
            "text/plain": [
              "['green', 'blue', 'purple']"
            ]
          },
          "metadata": {
            "tags": []
          },
          "execution_count": 60
        }
      ]
    },
    {
      "cell_type": "markdown",
      "metadata": {
        "id": "kS_A-v2Sh4dj"
      },
      "source": [
        "###Function"
      ]
    },
    {
      "cell_type": "code",
      "metadata": {
        "colab": {
          "base_uri": "https://localhost:8080/"
        },
        "id": "4Iu3ggMMh70z",
        "outputId": "d86c934c-e678-4c5a-f6c2-f25ea9408f42"
      },
      "source": [
        "def divide(a,b): #함수는 입,출력을 전제로 함. 복잡한 계산들을 반복하여 사용할 때 유용.\n",
        "  return a/b  #함수 정의 시 이 출력값을 반드시 정의할 필요는 X.\n",
        "c = divide(1,2); print(c)\n",
        "c=divide(1,2)\n",
        "c"
      ],
      "execution_count": null,
      "outputs": [
        {
          "output_type": "stream",
          "text": [
            "0.5\n"
          ],
          "name": "stdout"
        },
        {
          "output_type": "execute_result",
          "data": {
            "text/plain": [
              "0.5"
            ]
          },
          "metadata": {
            "tags": []
          },
          "execution_count": 65
        }
      ]
    },
    {
      "cell_type": "code",
      "metadata": {
        "colab": {
          "base_uri": "https://localhost:8080/"
        },
        "id": "QRY8meQKl8BX",
        "outputId": "8a602414-5c58-4cfc-f67f-926ba8b19d57"
      },
      "source": [
        "def func1(x,a,b,c):\n",
        "  y=a*x**2+b*x+c #제곱으로 올리려면 x**2\n",
        "  return y\n",
        "\n",
        "print(func1(3,2,2,3))"
      ],
      "execution_count": null,
      "outputs": [
        {
          "output_type": "stream",
          "text": [
            "27\n"
          ],
          "name": "stdout"
        }
      ]
    },
    {
      "cell_type": "markdown",
      "metadata": {
        "id": "ite2m8umpyFw"
      },
      "source": [
        "###Module\n",
        "module은 class, 함수, 변수 등을 모아둔 것. 형식은 .py임. package란 여러 module들을 한 폴더에 모아두는 것. 그 폴더들을 또 다시 모아서 더 큰 폴더에 둘 수도 있는데, package는 이렇게 module들을 계층적으로 관리할 수 있게 해줌."
      ]
    },
    {
      "cell_type": "code",
      "metadata": {
        "id": "Lt5-y8CKp0eV"
      },
      "source": [
        "class cal: #함수와 변수가 함께 모듈화돼 있는 것.\n",
        "  def __init__(self): #_ _init _ _\n",
        "    self.result = 0 #이 self.~라고 쓰는 게 result.\n",
        "  def add(self, n): #self는 무조건 들어가는 거고, 실질적인 입력은 n 하나.\n",
        "    self.result += n #+=는 자기 자신에다가 n을 더해 업데이트하는 것.\n",
        "    return self.result"
      ],
      "execution_count": null,
      "outputs": []
    },
    {
      "cell_type": "code",
      "metadata": {
        "colab": {
          "base_uri": "https://localhost:8080/"
        },
        "id": "9GtHyNo9p6Mw",
        "outputId": "213fc355-7c9b-40c5-fec0-a4d6fb5846e0"
      },
      "source": [
        "A=cal() #class라는 틀을 가지고 A라는 걸 찍어낸다고 생각하면 됨. 이때 A는 객체 object.\n",
        "#이걸 실행하면 첫번째 줄 즉, 앞 코드의 line3까지가 실행됨.\n",
        "A.result "
      ],
      "execution_count": null,
      "outputs": [
        {
          "output_type": "execute_result",
          "data": {
            "text/plain": [
              "0"
            ]
          },
          "metadata": {
            "tags": []
          },
          "execution_count": 72
        }
      ]
    },
    {
      "cell_type": "code",
      "metadata": {
        "colab": {
          "base_uri": "https://localhost:8080/"
        },
        "id": "WVAhf9LxqIIv",
        "outputId": "cf1c91f2-c681-4b04-d5df-abff7e017663"
      },
      "source": [
        "A.add(3)"
      ],
      "execution_count": null,
      "outputs": [
        {
          "output_type": "execute_result",
          "data": {
            "text/plain": [
              "3"
            ]
          },
          "metadata": {
            "tags": []
          },
          "execution_count": 73
        }
      ]
    },
    {
      "cell_type": "markdown",
      "metadata": {
        "id": "Lr0Dao9A6ex9"
      },
      "source": [
        "###Import"
      ]
    },
    {
      "cell_type": "code",
      "metadata": {
        "colab": {
          "base_uri": "https://localhost:8080/"
        },
        "id": "EQiuMrrR6g9z",
        "outputId": "853b06fb-b06e-4e58-c1a0-0f84fef21da8"
      },
      "source": [
        "import numpy as np #이렇게 import나 from import해서 써야 하는 애들은 외부 패키지.\n",
        "#numpy는 우리가 수를 쉽게 다룰 수 있게 해줌.\n",
        "n=np.random.randn(100) #총 100개의 숫자를 만드는 것. n이란 정규분포라는 의미.\n",
        "n"
      ],
      "execution_count": null,
      "outputs": [
        {
          "output_type": "execute_result",
          "data": {
            "text/plain": [
              "array([-0.3364373 ,  1.07676218, -0.13657312, -0.23205797, -0.5845318 ,\n",
              "        0.40257522,  0.30323957, -0.36370148,  0.85260804,  1.17273884,\n",
              "       -0.08742262, -0.48442245, -3.39695685,  1.16208708, -3.47695623,\n",
              "        0.19280751,  0.5487199 , -2.12636048,  0.89371566, -0.51290038,\n",
              "       -0.82829136,  1.64716419,  0.91901376,  1.41572936, -0.23097157,\n",
              "        0.65073881, -0.21365002, -0.70293973,  0.18547723,  0.63948267,\n",
              "        1.69530566, -0.55135838,  0.86935688,  0.28308655,  0.58903215,\n",
              "       -0.77746028,  0.35678979,  0.7681927 , -0.84597185,  0.52154891,\n",
              "        1.07438026,  0.36421677, -0.03064759, -0.15833986,  0.06303699,\n",
              "        0.91517549, -1.5142136 , -0.95819259, -0.40679899,  0.89398006,\n",
              "       -0.09743453,  0.49046631, -1.02957338,  0.54037552, -0.45091637,\n",
              "       -0.32214999,  0.15490837, -0.0864975 , -1.6803283 , -0.93230758,\n",
              "        0.82205932, -1.3007367 , -1.3219552 , -1.07456308,  0.28608186,\n",
              "        1.67478487,  0.9258944 , -0.95422665,  0.75683191,  0.76813427,\n",
              "       -0.50936108,  0.24451994, -0.98586803,  0.25825673, -0.33922908,\n",
              "        0.39362585, -1.83842284, -0.57276248, -0.66466529, -0.4831736 ,\n",
              "        0.88676428,  0.923416  , -0.17878416, -0.86476436,  0.56171396,\n",
              "        1.39449339, -0.83429248,  1.67565998, -1.9585457 ,  0.26769201,\n",
              "        1.54999094, -1.01475078, -0.58794676,  0.68303901,  0.85623354,\n",
              "       -0.69613718, -0.8972847 ,  1.14120291,  0.4972861 ,  0.71634531])"
            ]
          },
          "metadata": {
            "tags": []
          },
          "execution_count": 75
        }
      ]
    },
    {
      "cell_type": "code",
      "metadata": {
        "colab": {
          "base_uri": "https://localhost:8080/",
          "height": 353
        },
        "id": "P6ucDsN76mYT",
        "outputId": "2acf1511-cd63-4b6f-9d4b-f24d8424d5ac"
      },
      "source": [
        "import matplotlib #이게 큰 패키지\n",
        "import matplotlib.pyplot #얘네가 그 안에 들어있는 모듈\n",
        "from matplotlib import pyplot\n",
        "from matplotlib.pyplot import hist #그 안에 들어있는 hist라는 func를 써라아.\n",
        "matplotlib.pyplot.hist(n)"
      ],
      "execution_count": null,
      "outputs": [
        {
          "output_type": "execute_result",
          "data": {
            "text/plain": [
              "(array([ 2.,  0.,  2.,  3., 10., 18., 15., 22., 21.,  7.]),\n",
              " array([-3.47695623, -2.95973004, -2.44250385, -1.92527766, -1.40805147,\n",
              "        -0.89082528, -0.37359909,  0.1436271 ,  0.66085329,  1.17807947,\n",
              "         1.69530566]),\n",
              " <a list of 10 Patch objects>)"
            ]
          },
          "metadata": {
            "tags": []
          },
          "execution_count": 78
        },
        {
          "output_type": "display_data",
          "data": {
            "image/png": "[encoded data removed]",
            "text/plain": [
              "<Figure size 432x288 with 1 Axes>"
            ]
          },
          "metadata": {
            "tags": [],
            "needs_background": "light"
          }
        }
      ]
    }
  ]
}