{
  "nbformat": 4,
  "nbformat_minor": 0,
  "metadata": {
    "colab": {
      "provenance": [],
      "toc_visible": true,
      "authorship_tag": "ABX9TyM3Lnp9eWv1qlgueRCtGlGS",
      "include_colab_link": true
    },
    "kernelspec": {
      "name": "python3",
      "display_name": "Python 3"
    },
    "language_info": {
      "name": "python"
    }
  },
  "cells": [
    {
      "cell_type": "markdown",
      "metadata": {
        "id": "view-in-github",
        "colab_type": "text"
      },
      "source": [
        "<a href=\"https://colab.research.google.com/github/daonly/personal/blob/main/ND_HRV_ICC.ipynb\" target=\"_parent\"><img src=\"https://colab.research.google.com/assets/colab-badge.svg\" alt=\"Open In Colab\"/></a>"
      ]
    },
    {
      "cell_type": "code",
      "execution_count": null,
      "metadata": {
        "id": "n1I334Fsj_Zh"
      },
      "outputs": [],
      "source": [
        "import pingouin as pg\n",
        "from openpyxl import Workbook\n",
        "\n",
        "wb = Workbook()\n",
        "ws = wb.active()\n",
        "\n",
        "c_list = list(df.columns)\n",
        "df_day = pd.read_excel(savepath+'\\df_day.xlsx')\n",
        "df_day['SubjectID'] = df_day['dataSource'].str[0:7]\n",
        "\n",
        "for i in range(0, len(c_list)):\n",
        "    t = pg.intraclass_corr(data=df_day,targets='SubjectID',raters='Day',ratings=c_list[i],nan_policy='omit')\n",
        "    ws[\"B\"+i+1] = t.loc[2][2]\n",
        "    ws[\"C\"+i+1] = t.loc[2][6]\n",
        "    ws[\"D\"+i+1] = t.loc[2][7]\n",
        "    \n",
        "wb.save(filename = savepath+'\\ICC.xlsx')"
      ]
    }
  ]
}