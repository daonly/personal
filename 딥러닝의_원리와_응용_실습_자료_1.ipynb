{
  "nbformat": 4,
  "nbformat_minor": 0,
  "metadata": {
    "colab": {
      "provenance": [],
      "toc_visible": true,
      "include_colab_link": true
    },
    "kernelspec": {
      "name": "python3",
      "display_name": "Python 3"
    },
    "language_info": {
      "name": "python"
    }
  },
  "cells": [
    {
      "cell_type": "markdown",
      "metadata": {
        "id": "view-in-github",
        "colab_type": "text"
      },
      "source": [
        "<a href=\"https://colab.research.google.com/github/daonly/personal/blob/main/%EB%94%A5%EB%9F%AC%EB%8B%9D%EC%9D%98_%EC%9B%90%EB%A6%AC%EC%99%80_%EC%9D%91%EC%9A%A9_%EC%8B%A4%EC%8A%B5_%EC%9E%90%EB%A3%8C_1.ipynb\" target=\"_parent\"><img src=\"https://colab.research.google.com/assets/colab-badge.svg\" alt=\"Open In Colab\"/></a>"
      ]
    },
    {
      "cell_type": "markdown",
      "source": [
        "![image](https://github.com/Koo-BM/deeplearning_from_bottom/assets/93233323/9b25bb2f-6241-4bec-b262-f2b626bc3910)"
      ],
      "metadata": {
        "id": "MUj5hSxyfAXT"
      }
    },
    {
      "cell_type": "markdown",
      "source": [
        "# 1. 딥러닝을 위한 파이썬(기본편)"
      ],
      "metadata": {
        "id": "GsCUXxnBfCgX"
      }
    },
    {
      "cell_type": "markdown",
      "source": [
        "1. Import에 대하여\n",
        "2. Type(데이터 타입)\n",
        "3. Tuple(튜플)\n",
        "4. List(리스트) & 슬라이싱(잘라내기)\n",
        "5. Numpy Array (배열)\n",
        "6. Shape (차원, 모양새)\n",
        "7. function(함수)\n",
        "8. for in (반복문)"
      ],
      "metadata": {
        "id": "cmZ8sScIqnn0"
      }
    },
    {
      "cell_type": "markdown",
      "source": [
        "## Import에 대하여"
      ],
      "metadata": {
        "id": "qmEAYLNDquhu"
      }
    },
    {
      "cell_type": "code",
      "source": [
        "import pandas as pd\n",
        "import numpy as np"
      ],
      "metadata": {
        "id": "Gn0o33XSq0Eb"
      },
      "execution_count": null,
      "outputs": []
    },
    {
      "cell_type": "markdown",
      "source": [
        "as 뒤에는 축약"
      ],
      "metadata": {
        "id": "ZZ_vXNqFq7AK"
      }
    },
    {
      "cell_type": "code",
      "source": [
        "pd"
      ],
      "metadata": {
        "colab": {
          "base_uri": "https://localhost:8080/"
        },
        "id": "Z4ghVMWgq-Ie",
        "outputId": "ced8cabe-8a97-4b59-d7d8-c52699e64183"
      },
      "execution_count": null,
      "outputs": [
        {
          "output_type": "execute_result",
          "data": {
            "text/plain": [
              "<module 'pandas' from '/usr/local/lib/python3.10/dist-packages/pandas/__init__.py'>"
            ]
          },
          "metadata": {},
          "execution_count": 3
        }
      ]
    },
    {
      "cell_type": "markdown",
      "source": [
        "## Type"
      ],
      "metadata": {
        "id": "W3lbilCeq-wF"
      }
    },
    {
      "cell_type": "markdown",
      "source": [
        "### 문자형"
      ],
      "metadata": {
        "id": "cVagavAprNe3"
      }
    },
    {
      "cell_type": "code",
      "source": [
        "word = 'Deeplearning is FUN'"
      ],
      "metadata": {
        "id": "dQKeE-hIrPtw"
      },
      "execution_count": null,
      "outputs": []
    },
    {
      "cell_type": "code",
      "source": [
        "type(word)"
      ],
      "metadata": {
        "colab": {
          "base_uri": "https://localhost:8080/"
        },
        "id": "MY4qf04wrQwU",
        "outputId": "c63b9dd3-1156-403c-8b51-fd1feae88abd"
      },
      "execution_count": null,
      "outputs": [
        {
          "output_type": "execute_result",
          "data": {
            "text/plain": [
              "str"
            ]
          },
          "metadata": {},
          "execution_count": 6
        }
      ]
    },
    {
      "cell_type": "code",
      "source": [
        "number = '1'"
      ],
      "metadata": {
        "id": "SZE8L2FKrSHZ"
      },
      "execution_count": null,
      "outputs": []
    },
    {
      "cell_type": "code",
      "source": [
        "type(number)"
      ],
      "metadata": {
        "colab": {
          "base_uri": "https://localhost:8080/"
        },
        "id": "Xw1v-C_OrTrJ",
        "outputId": "2942e602-0aa4-45f4-9a98-f5c96bd31a90"
      },
      "execution_count": null,
      "outputs": [
        {
          "output_type": "execute_result",
          "data": {
            "text/plain": [
              "str"
            ]
          },
          "metadata": {},
          "execution_count": 8
        }
      ]
    },
    {
      "cell_type": "markdown",
      "source": [
        "### 정수(int)"
      ],
      "metadata": {
        "id": "BW5hzSNrrUip"
      }
    },
    {
      "cell_type": "code",
      "source": [
        "number = 1"
      ],
      "metadata": {
        "id": "BHAQOWX-rXL4"
      },
      "execution_count": null,
      "outputs": []
    },
    {
      "cell_type": "code",
      "source": [
        "number"
      ],
      "metadata": {
        "colab": {
          "base_uri": "https://localhost:8080/"
        },
        "id": "IJD-LqjfrZZF",
        "outputId": "78862e3b-d4c7-4bbe-b3d8-914a31a700df"
      },
      "execution_count": null,
      "outputs": [
        {
          "output_type": "execute_result",
          "data": {
            "text/plain": [
              "1"
            ]
          },
          "metadata": {},
          "execution_count": 10
        }
      ]
    },
    {
      "cell_type": "code",
      "source": [
        "type(number)"
      ],
      "metadata": {
        "colab": {
          "base_uri": "https://localhost:8080/"
        },
        "id": "3qiEBxcZrajt",
        "outputId": "41166b14-698b-4407-de8d-b2087162f552"
      },
      "execution_count": null,
      "outputs": [
        {
          "output_type": "execute_result",
          "data": {
            "text/plain": [
              "int"
            ]
          },
          "metadata": {},
          "execution_count": 11
        }
      ]
    },
    {
      "cell_type": "markdown",
      "source": [
        "### 실수(float)"
      ],
      "metadata": {
        "id": "tfd_APTprbL4"
      }
    },
    {
      "cell_type": "code",
      "source": [
        "number = 3.14"
      ],
      "metadata": {
        "id": "akf2-T9greox"
      },
      "execution_count": null,
      "outputs": []
    },
    {
      "cell_type": "code",
      "source": [
        "type(number)"
      ],
      "metadata": {
        "colab": {
          "base_uri": "https://localhost:8080/"
        },
        "id": "PSfyx22yrfh6",
        "outputId": "a636e526-cb42-4d1d-fabe-9bcd28d84c12"
      },
      "execution_count": null,
      "outputs": [
        {
          "output_type": "execute_result",
          "data": {
            "text/plain": [
              "float"
            ]
          },
          "metadata": {},
          "execution_count": 15
        }
      ]
    },
    {
      "cell_type": "markdown",
      "source": [
        "### 데이터 타입 변환"
      ],
      "metadata": {
        "id": "wg9L6TMgrgP-"
      }
    },
    {
      "cell_type": "code",
      "source": [
        "number = 5"
      ],
      "metadata": {
        "id": "-6e45tdArkL1"
      },
      "execution_count": null,
      "outputs": []
    },
    {
      "cell_type": "code",
      "source": [
        "type(number)"
      ],
      "metadata": {
        "colab": {
          "base_uri": "https://localhost:8080/"
        },
        "id": "yyk2n5SorlST",
        "outputId": "bc33cab0-1916-492c-ea26-4ce02c560085"
      },
      "execution_count": null,
      "outputs": [
        {
          "output_type": "execute_result",
          "data": {
            "text/plain": [
              "int"
            ]
          },
          "metadata": {},
          "execution_count": 17
        }
      ]
    },
    {
      "cell_type": "code",
      "source": [
        "type(number/1.0)"
      ],
      "metadata": {
        "colab": {
          "base_uri": "https://localhost:8080/"
        },
        "id": "ejt27LtSrmE5",
        "outputId": "33ac5320-ef18-447e-b5e7-b2c0cbe084df"
      },
      "execution_count": null,
      "outputs": [
        {
          "output_type": "execute_result",
          "data": {
            "text/plain": [
              "float"
            ]
          },
          "metadata": {},
          "execution_count": 18
        }
      ]
    },
    {
      "cell_type": "code",
      "source": [
        "number/1.0"
      ],
      "metadata": {
        "colab": {
          "base_uri": "https://localhost:8080/"
        },
        "id": "2YGYiM9LrnF3",
        "outputId": "7ed4fc95-928c-41a1-fdfa-357c6ea098c7"
      },
      "execution_count": null,
      "outputs": [
        {
          "output_type": "execute_result",
          "data": {
            "text/plain": [
              "5.0"
            ]
          },
          "metadata": {},
          "execution_count": 19
        }
      ]
    },
    {
      "cell_type": "code",
      "source": [
        "number = 3.14"
      ],
      "metadata": {
        "id": "YJNu7MnWrpDp"
      },
      "execution_count": null,
      "outputs": []
    },
    {
      "cell_type": "code",
      "source": [
        "int(number)"
      ],
      "metadata": {
        "colab": {
          "base_uri": "https://localhost:8080/"
        },
        "id": "pCGS40XGrqaB",
        "outputId": "2b5f0b56-7433-4f3d-d0a2-fce084849201"
      },
      "execution_count": null,
      "outputs": [
        {
          "output_type": "execute_result",
          "data": {
            "text/plain": [
              "3"
            ]
          },
          "metadata": {},
          "execution_count": 21
        }
      ]
    },
    {
      "cell_type": "code",
      "source": [
        "number = 1"
      ],
      "metadata": {
        "id": "QR2WeBaNrq_9"
      },
      "execution_count": null,
      "outputs": []
    },
    {
      "cell_type": "code",
      "source": [
        "float(number)"
      ],
      "metadata": {
        "colab": {
          "base_uri": "https://localhost:8080/"
        },
        "id": "gUfsXpMDrr6I",
        "outputId": "d291e695-6250-4a7d-fc6f-e5fd036a2979"
      },
      "execution_count": null,
      "outputs": [
        {
          "output_type": "execute_result",
          "data": {
            "text/plain": [
              "1.0"
            ]
          },
          "metadata": {},
          "execution_count": 23
        }
      ]
    },
    {
      "cell_type": "markdown",
      "source": [
        "## List (리스트) & 슬라이싱 (잘라내기)"
      ],
      "metadata": {
        "id": "XkbdTygurssG"
      }
    },
    {
      "cell_type": "markdown",
      "source": [
        "꺾쇠 [] 안에 복수개의 데이터를 넣어준 집합"
      ],
      "metadata": {
        "id": "e4npg0-Fr8bI"
      }
    },
    {
      "cell_type": "markdown",
      "source": [
        "1차원 리스트 생성"
      ],
      "metadata": {
        "id": "_ELqZqZ2r9ln"
      }
    },
    {
      "cell_type": "code",
      "source": [
        "x = [10,20,30,40,50,60,70,80]"
      ],
      "metadata": {
        "id": "wIcF61xzsM11"
      },
      "execution_count": null,
      "outputs": []
    },
    {
      "cell_type": "code",
      "source": [
        "x"
      ],
      "metadata": {
        "colab": {
          "base_uri": "https://localhost:8080/"
        },
        "id": "Xrqto71Y3jw4",
        "outputId": "a42f401f-5fbf-469f-b220-977a1973ca4e"
      },
      "execution_count": null,
      "outputs": [
        {
          "output_type": "execute_result",
          "data": {
            "text/plain": [
              "[10, 20, 30, 40, 50, 60, 70, 80]"
            ]
          },
          "metadata": {},
          "execution_count": 26
        }
      ]
    },
    {
      "cell_type": "markdown",
      "source": [
        "2차원 리스트 생성"
      ],
      "metadata": {
        "id": "VlW3lGVU3n4m"
      }
    },
    {
      "cell_type": "code",
      "source": [
        "x_2d = [\n",
        "        [10,20,30,40,50],\n",
        "        [60,70,80,90,100],\n",
        "        ]"
      ],
      "metadata": {
        "id": "_wMso33q3kWe"
      },
      "execution_count": null,
      "outputs": []
    },
    {
      "cell_type": "code",
      "source": [
        "x_2d"
      ],
      "metadata": {
        "colab": {
          "base_uri": "https://localhost:8080/"
        },
        "id": "iSdR5pHl3mPp",
        "outputId": "1b1b23bf-666e-4f48-bebf-400e31c5bd1b"
      },
      "execution_count": null,
      "outputs": [
        {
          "output_type": "execute_result",
          "data": {
            "text/plain": [
              "[[10, 20, 30, 40, 50], [60, 70, 80, 90, 100]]"
            ]
          },
          "metadata": {},
          "execution_count": 28
        }
      ]
    },
    {
      "cell_type": "markdown",
      "source": [
        "### 색인(index)"
      ],
      "metadata": {
        "id": "xhKdtC6h3m8O"
      }
    },
    {
      "cell_type": "markdown",
      "source": [
        "리스트는 0번 index부터 시작합니다."
      ],
      "metadata": {
        "id": "6YaDS4_e322_"
      }
    },
    {
      "cell_type": "code",
      "source": [
        "x = [10,20,30,40,50,60,70,80]"
      ],
      "metadata": {
        "id": "gmy-UGeD35Af"
      },
      "execution_count": null,
      "outputs": []
    },
    {
      "cell_type": "code",
      "source": [
        "x[0]"
      ],
      "metadata": {
        "colab": {
          "base_uri": "https://localhost:8080/"
        },
        "id": "0GzFIz6537Qe",
        "outputId": "6d68c7aa-d0be-4e8a-e292-0b8b1505356b"
      },
      "execution_count": null,
      "outputs": [
        {
          "output_type": "execute_result",
          "data": {
            "text/plain": [
              "10"
            ]
          },
          "metadata": {},
          "execution_count": 30
        }
      ]
    },
    {
      "cell_type": "code",
      "source": [
        "x[3]"
      ],
      "metadata": {
        "colab": {
          "base_uri": "https://localhost:8080/"
        },
        "id": "OxhxmhED38AO",
        "outputId": "bf15c2f9-e285-403c-d563-7cb18bedbf51"
      },
      "execution_count": null,
      "outputs": [
        {
          "output_type": "execute_result",
          "data": {
            "text/plain": [
              "40"
            ]
          },
          "metadata": {},
          "execution_count": 31
        }
      ]
    },
    {
      "cell_type": "code",
      "source": [
        "x[8]"
      ],
      "metadata": {
        "colab": {
          "base_uri": "https://localhost:8080/",
          "height": 178
        },
        "id": "Hz7gt6-S38uN",
        "outputId": "fab1cf80-6cbe-4602-bb56-6919ad44c036"
      },
      "execution_count": null,
      "outputs": [
        {
          "output_type": "error",
          "ename": "IndexError",
          "evalue": "ignored",
          "traceback": [
            "\u001b[0;31m---------------------------------------------------------------------------\u001b[0m",
            "\u001b[0;31mIndexError\u001b[0m                                Traceback (most recent call last)",
            "\u001b[0;32m<ipython-input-32-47020b7a715b>\u001b[0m in \u001b[0;36m<cell line: 1>\u001b[0;34m()\u001b[0m\n\u001b[0;32m----> 1\u001b[0;31m \u001b[0mx\u001b[0m\u001b[0;34m[\u001b[0m\u001b[0;36m8\u001b[0m\u001b[0;34m]\u001b[0m\u001b[0;34m\u001b[0m\u001b[0;34m\u001b[0m\u001b[0m\n\u001b[0m",
            "\u001b[0;31mIndexError\u001b[0m: list index out of range"
          ]
        }
      ]
    },
    {
      "cell_type": "markdown",
      "source": [
        "-1은 거꾸로 색인합니다"
      ],
      "metadata": {
        "id": "HUfupqlk39c9"
      }
    },
    {
      "cell_type": "code",
      "source": [
        "x[-1]"
      ],
      "metadata": {
        "colab": {
          "base_uri": "https://localhost:8080/"
        },
        "id": "UxIFUuR63_R7",
        "outputId": "4de78ce5-6bde-4d0b-e6b5-2d2bd235e823"
      },
      "execution_count": null,
      "outputs": [
        {
          "output_type": "execute_result",
          "data": {
            "text/plain": [
              "80"
            ]
          },
          "metadata": {},
          "execution_count": 34
        }
      ]
    },
    {
      "cell_type": "code",
      "source": [
        "x[-8]"
      ],
      "metadata": {
        "colab": {
          "base_uri": "https://localhost:8080/"
        },
        "id": "8ZTln7IY4BBj",
        "outputId": "203ac244-db69-48e4-82e4-c1646c60ec71"
      },
      "execution_count": null,
      "outputs": [
        {
          "output_type": "execute_result",
          "data": {
            "text/plain": [
              "10"
            ]
          },
          "metadata": {},
          "execution_count": 35
        }
      ]
    },
    {
      "cell_type": "markdown",
      "source": [
        "### 슬라이싱"
      ],
      "metadata": {
        "id": "ZnY1lSZP4DEZ"
      }
    },
    {
      "cell_type": "markdown",
      "source": [
        ": 기준으로 왼쪽은 포함 /:기준으로 오른쪽은 미만"
      ],
      "metadata": {
        "id": "s2U176k04Fp6"
      }
    },
    {
      "cell_type": "code",
      "source": [
        "x = [10,20,30,40,50,60,70,80]"
      ],
      "metadata": {
        "id": "mk1xJRZw4HwZ"
      },
      "execution_count": null,
      "outputs": []
    },
    {
      "cell_type": "code",
      "source": [
        "x[0:4]"
      ],
      "metadata": {
        "colab": {
          "base_uri": "https://localhost:8080/"
        },
        "id": "zDmyDxhq4I7Y",
        "outputId": "1d417d15-600a-4c3d-c0dc-b5c3488770f3"
      },
      "execution_count": null,
      "outputs": [
        {
          "output_type": "execute_result",
          "data": {
            "text/plain": [
              "[10, 20, 30, 40]"
            ]
          },
          "metadata": {},
          "execution_count": 38
        }
      ]
    },
    {
      "cell_type": "code",
      "source": [
        "x[:4]"
      ],
      "metadata": {
        "colab": {
          "base_uri": "https://localhost:8080/"
        },
        "id": "MucZr90f4Kxd",
        "outputId": "7b2fc2bd-e90f-44b1-8ea7-1af1ede1add2"
      },
      "execution_count": null,
      "outputs": [
        {
          "output_type": "execute_result",
          "data": {
            "text/plain": [
              "[10, 20, 30, 40]"
            ]
          },
          "metadata": {},
          "execution_count": 39
        }
      ]
    },
    {
      "cell_type": "code",
      "source": [
        "x[3:]"
      ],
      "metadata": {
        "colab": {
          "base_uri": "https://localhost:8080/"
        },
        "id": "lkBpnB4K4LmC",
        "outputId": "10e71be6-c88e-4456-d011-669bc938ec0a"
      },
      "execution_count": null,
      "outputs": [
        {
          "output_type": "execute_result",
          "data": {
            "text/plain": [
              "[40, 50, 60, 70, 80]"
            ]
          },
          "metadata": {},
          "execution_count": 40
        }
      ]
    },
    {
      "cell_type": "code",
      "source": [
        "x[:-3]"
      ],
      "metadata": {
        "colab": {
          "base_uri": "https://localhost:8080/"
        },
        "id": "abpEdH464NDD",
        "outputId": "48357d01-42e5-4b90-8eb3-cbc1d7b2699f"
      },
      "execution_count": null,
      "outputs": [
        {
          "output_type": "execute_result",
          "data": {
            "text/plain": [
              "[10, 20, 30, 40, 50]"
            ]
          },
          "metadata": {},
          "execution_count": 41
        }
      ]
    },
    {
      "cell_type": "code",
      "source": [
        "x[-5:-3]"
      ],
      "metadata": {
        "colab": {
          "base_uri": "https://localhost:8080/"
        },
        "id": "wSyNTeP64N_H",
        "outputId": "91a03622-49b6-4477-de42-fdeb1e834d88"
      },
      "execution_count": null,
      "outputs": [
        {
          "output_type": "execute_result",
          "data": {
            "text/plain": [
              "[40, 50]"
            ]
          },
          "metadata": {},
          "execution_count": 42
        }
      ]
    },
    {
      "cell_type": "markdown",
      "source": [
        "## Tuple(튜플)"
      ],
      "metadata": {
        "id": "fAMFrA7q4Qbj"
      }
    },
    {
      "cell_type": "markdown",
      "source": [
        "튜플은 데이터가 읽기 전용인 집합체다"
      ],
      "metadata": {
        "id": "eVrWR9Au4U8x"
      }
    },
    {
      "cell_type": "code",
      "source": [
        "x = [10,20,30]"
      ],
      "metadata": {
        "id": "hrhDIrln4f-1"
      },
      "execution_count": null,
      "outputs": []
    },
    {
      "cell_type": "code",
      "source": [
        "x[0]"
      ],
      "metadata": {
        "colab": {
          "base_uri": "https://localhost:8080/"
        },
        "id": "lwXrs9id4wh7",
        "outputId": "106da4e6-f0bf-4663-ff57-c0c109d2285d"
      },
      "execution_count": null,
      "outputs": [
        {
          "output_type": "execute_result",
          "data": {
            "text/plain": [
              "10"
            ]
          },
          "metadata": {},
          "execution_count": 44
        }
      ]
    },
    {
      "cell_type": "code",
      "source": [
        "x[0] = 99"
      ],
      "metadata": {
        "id": "9Y8MsR7t4yJ8"
      },
      "execution_count": null,
      "outputs": []
    },
    {
      "cell_type": "code",
      "source": [
        "x"
      ],
      "metadata": {
        "colab": {
          "base_uri": "https://localhost:8080/"
        },
        "id": "H1cez-bg4y50",
        "outputId": "df38677b-1137-48b0-91bc-5388e4206d62"
      },
      "execution_count": null,
      "outputs": [
        {
          "output_type": "execute_result",
          "data": {
            "text/plain": [
              "[99, 20, 30]"
            ]
          },
          "metadata": {},
          "execution_count": 46
        }
      ]
    },
    {
      "cell_type": "code",
      "source": [
        "x = (10,20,30)"
      ],
      "metadata": {
        "id": "At-qw_-34zht"
      },
      "execution_count": null,
      "outputs": []
    },
    {
      "cell_type": "code",
      "source": [
        "x[0] = 99"
      ],
      "metadata": {
        "colab": {
          "base_uri": "https://localhost:8080/",
          "height": 178
        },
        "id": "z25YsIx940jf",
        "outputId": "170cecfc-7007-42cb-a6c1-5547dff8d89a"
      },
      "execution_count": null,
      "outputs": [
        {
          "output_type": "error",
          "ename": "TypeError",
          "evalue": "ignored",
          "traceback": [
            "\u001b[0;31m---------------------------------------------------------------------------\u001b[0m",
            "\u001b[0;31mTypeError\u001b[0m                                 Traceback (most recent call last)",
            "\u001b[0;32m<ipython-input-48-8cfed8487fe6>\u001b[0m in \u001b[0;36m<cell line: 1>\u001b[0;34m()\u001b[0m\n\u001b[0;32m----> 1\u001b[0;31m \u001b[0mx\u001b[0m\u001b[0;34m[\u001b[0m\u001b[0;36m0\u001b[0m\u001b[0;34m]\u001b[0m \u001b[0;34m=\u001b[0m \u001b[0;36m99\u001b[0m\u001b[0;34m\u001b[0m\u001b[0;34m\u001b[0m\u001b[0m\n\u001b[0m",
            "\u001b[0;31mTypeError\u001b[0m: 'tuple' object does not support item assignment"
          ]
        }
      ]
    },
    {
      "cell_type": "markdown",
      "source": [
        "## Dictionary(딕셔너리)"
      ],
      "metadata": {
        "id": "pfgQrHW_41UW"
      }
    },
    {
      "cell_type": "code",
      "source": [
        "book = {'price':10000}"
      ],
      "metadata": {
        "id": "L4RN-Mq-9Xtv"
      },
      "execution_count": null,
      "outputs": []
    },
    {
      "cell_type": "code",
      "source": [
        "book['price']"
      ],
      "metadata": {
        "colab": {
          "base_uri": "https://localhost:8080/"
        },
        "id": "0tQe8Tm79jKf",
        "outputId": "6b84e738-164e-452d-c001-e4b367633d4c"
      },
      "execution_count": null,
      "outputs": [
        {
          "output_type": "execute_result",
          "data": {
            "text/plain": [
              "10000"
            ]
          },
          "metadata": {},
          "execution_count": 50
        }
      ]
    },
    {
      "cell_type": "code",
      "source": [
        "book['name'] = '딥러닝'"
      ],
      "metadata": {
        "id": "zNqmwRSY9kSh"
      },
      "execution_count": null,
      "outputs": []
    },
    {
      "cell_type": "code",
      "source": [
        "book"
      ],
      "metadata": {
        "colab": {
          "base_uri": "https://localhost:8080/"
        },
        "id": "q3vcf6ap9nqx",
        "outputId": "a5fe0fce-e0e8-498c-c473-b028d40ab608"
      },
      "execution_count": null,
      "outputs": [
        {
          "output_type": "execute_result",
          "data": {
            "text/plain": [
              "{'price': 10000, 'name': '딥러닝'}"
            ]
          },
          "metadata": {},
          "execution_count": 52
        }
      ]
    },
    {
      "cell_type": "markdown",
      "source": [
        "## Numpy Array(배열)"
      ],
      "metadata": {
        "id": "g5CGRFoc9oe0"
      }
    },
    {
      "cell_type": "code",
      "source": [
        "x = [10,20,30,40,50,60,70,80]"
      ],
      "metadata": {
        "id": "y7V_o93N90r5"
      },
      "execution_count": null,
      "outputs": []
    },
    {
      "cell_type": "code",
      "source": [
        "type(x)"
      ],
      "metadata": {
        "colab": {
          "base_uri": "https://localhost:8080/"
        },
        "id": "SjDS5m-s92FO",
        "outputId": "ad22fd57-a10c-417c-f594-80cd7bdf02f8"
      },
      "execution_count": null,
      "outputs": [
        {
          "output_type": "execute_result",
          "data": {
            "text/plain": [
              "list"
            ]
          },
          "metadata": {},
          "execution_count": 55
        }
      ]
    },
    {
      "cell_type": "code",
      "source": [
        "import numpy as np"
      ],
      "metadata": {
        "id": "DFXaMLmm9x2r"
      },
      "execution_count": null,
      "outputs": []
    },
    {
      "cell_type": "code",
      "source": [
        "np.array(x)"
      ],
      "metadata": {
        "colab": {
          "base_uri": "https://localhost:8080/"
        },
        "id": "UZf14Nzo9zRS",
        "outputId": "b41e7e02-2321-4a40-c558-139b0e7a308e"
      },
      "execution_count": null,
      "outputs": [
        {
          "output_type": "execute_result",
          "data": {
            "text/plain": [
              "array([10, 20, 30, 40, 50, 60, 70, 80])"
            ]
          },
          "metadata": {},
          "execution_count": 57
        }
      ]
    },
    {
      "cell_type": "code",
      "source": [
        "type(np.array(x))"
      ],
      "metadata": {
        "colab": {
          "base_uri": "https://localhost:8080/"
        },
        "id": "ph19NVas949e",
        "outputId": "c04254e4-2491-4417-9a9d-fef739213f04"
      },
      "execution_count": null,
      "outputs": [
        {
          "output_type": "execute_result",
          "data": {
            "text/plain": [
              "numpy.ndarray"
            ]
          },
          "metadata": {},
          "execution_count": 58
        }
      ]
    },
    {
      "cell_type": "code",
      "source": [
        "x_arr = np.array(x)"
      ],
      "metadata": {
        "id": "pCiktoOe96FJ"
      },
      "execution_count": null,
      "outputs": []
    },
    {
      "cell_type": "code",
      "source": [
        "x_arr"
      ],
      "metadata": {
        "colab": {
          "base_uri": "https://localhost:8080/"
        },
        "id": "G7GG15Ke97Qs",
        "outputId": "a3531baf-298e-4400-ddc3-c02b20aa0b99"
      },
      "execution_count": null,
      "outputs": [
        {
          "output_type": "execute_result",
          "data": {
            "text/plain": [
              "array([10, 20, 30, 40, 50, 60, 70, 80])"
            ]
          },
          "metadata": {},
          "execution_count": 61
        }
      ]
    },
    {
      "cell_type": "code",
      "source": [
        "x_arr.shape"
      ],
      "metadata": {
        "colab": {
          "base_uri": "https://localhost:8080/"
        },
        "id": "q7kmljWP-BA2",
        "outputId": "0e40b908-3df2-476c-bb00-159a3f5377e7"
      },
      "execution_count": null,
      "outputs": [
        {
          "output_type": "execute_result",
          "data": {
            "text/plain": [
              "(8,)"
            ]
          },
          "metadata": {},
          "execution_count": 62
        }
      ]
    },
    {
      "cell_type": "markdown",
      "source": [
        "row, column (행,열)"
      ],
      "metadata": {
        "id": "3B05j-zb-DRe"
      }
    },
    {
      "cell_type": "code",
      "source": [
        "x_2d"
      ],
      "metadata": {
        "colab": {
          "base_uri": "https://localhost:8080/"
        },
        "id": "Ci5DmEac-FbS",
        "outputId": "701d6dc3-35cb-4040-c445-5e7b3f451af4"
      },
      "execution_count": null,
      "outputs": [
        {
          "output_type": "execute_result",
          "data": {
            "text/plain": [
              "[[10, 20, 30, 40, 50], [60, 70, 80, 90, 100]]"
            ]
          },
          "metadata": {},
          "execution_count": 63
        }
      ]
    },
    {
      "cell_type": "code",
      "source": [
        "x_2d_arr = np.array(x_2d)"
      ],
      "metadata": {
        "id": "R3jvvs-U-ISk"
      },
      "execution_count": null,
      "outputs": []
    },
    {
      "cell_type": "code",
      "source": [
        "x_2d_arr.shape"
      ],
      "metadata": {
        "colab": {
          "base_uri": "https://localhost:8080/"
        },
        "id": "rwctlK4K-JQU",
        "outputId": "85851f74-2e7a-470e-e049-db0340f0a15d"
      },
      "execution_count": null,
      "outputs": [
        {
          "output_type": "execute_result",
          "data": {
            "text/plain": [
              "(2, 5)"
            ]
          },
          "metadata": {},
          "execution_count": 65
        }
      ]
    },
    {
      "cell_type": "markdown",
      "source": [
        "나중에 이미지 처리 과정에서 많이 사용됨"
      ],
      "metadata": {
        "id": "z5MxmhZ4-J5l"
      }
    },
    {
      "cell_type": "markdown",
      "source": [
        "## 함수"
      ],
      "metadata": {
        "id": "XpV_dzvg-LXF"
      }
    },
    {
      "cell_type": "markdown",
      "source": [
        "들여쓰기 주의!!"
      ],
      "metadata": {
        "id": "WjUgefY3-Nzc"
      }
    },
    {
      "cell_type": "markdown",
      "source": [
        "def 함수명(파라미터1, 파라미터2,....):"
      ],
      "metadata": {
        "id": "7mmPvlJo-PTB"
      }
    },
    {
      "cell_type": "code",
      "source": [
        "def func(a,b):\n",
        "    return a + b"
      ],
      "metadata": {
        "id": "czHR23vr-QZy"
      },
      "execution_count": null,
      "outputs": []
    },
    {
      "cell_type": "code",
      "source": [
        "func(1,3)"
      ],
      "metadata": {
        "colab": {
          "base_uri": "https://localhost:8080/"
        },
        "id": "_HCq2DJU-RPp",
        "outputId": "4c1a8a96-287d-4d05-c6c9-2847d99a7411"
      },
      "execution_count": null,
      "outputs": [
        {
          "output_type": "execute_result",
          "data": {
            "text/plain": [
              "4"
            ]
          },
          "metadata": {},
          "execution_count": 68
        }
      ]
    },
    {
      "cell_type": "code",
      "source": [
        "def print_me(a, b):\n",
        "    print(a)\n",
        "    print(b)"
      ],
      "metadata": {
        "id": "NxxK4NvH-TJf"
      },
      "execution_count": null,
      "outputs": []
    },
    {
      "cell_type": "code",
      "source": [
        "print_me('hello','world')"
      ],
      "metadata": {
        "colab": {
          "base_uri": "https://localhost:8080/"
        },
        "id": "4bNBwIty-VHs",
        "outputId": "9b960f2a-927d-4796-a0ea-5157aa2420d2"
      },
      "execution_count": null,
      "outputs": [
        {
          "output_type": "stream",
          "name": "stdout",
          "text": [
            "hello\n",
            "world\n"
          ]
        }
      ]
    },
    {
      "cell_type": "code",
      "source": [
        "a = print_me('hello','world')"
      ],
      "metadata": {
        "colab": {
          "base_uri": "https://localhost:8080/"
        },
        "id": "UU68SiWr-XjS",
        "outputId": "d3613aa4-0afa-4088-cdcb-1d5e692d8924"
      },
      "execution_count": null,
      "outputs": [
        {
          "output_type": "stream",
          "name": "stdout",
          "text": [
            "hello\n",
            "world\n"
          ]
        }
      ]
    },
    {
      "cell_type": "code",
      "source": [
        "a"
      ],
      "metadata": {
        "id": "SKRtJcYx-YfI"
      },
      "execution_count": null,
      "outputs": []
    },
    {
      "cell_type": "code",
      "source": [
        "a = func(1,3)"
      ],
      "metadata": {
        "id": "WIep1t35-eb2"
      },
      "execution_count": null,
      "outputs": []
    },
    {
      "cell_type": "code",
      "source": [
        "a"
      ],
      "metadata": {
        "colab": {
          "base_uri": "https://localhost:8080/"
        },
        "id": "4iWjETfU-fDe",
        "outputId": "c18104b5-0bb8-4895-9b78-1e865c013d23"
      },
      "execution_count": null,
      "outputs": [
        {
          "output_type": "execute_result",
          "data": {
            "text/plain": [
              "4"
            ]
          },
          "metadata": {},
          "execution_count": 76
        }
      ]
    },
    {
      "cell_type": "markdown",
      "source": [
        "## for in 구문 (반복문)"
      ],
      "metadata": {
        "id": "jM3jydth-fpw"
      }
    },
    {
      "cell_type": "code",
      "source": [
        "range(10)"
      ],
      "metadata": {
        "colab": {
          "base_uri": "https://localhost:8080/"
        },
        "id": "LgrjRv-q-iJx",
        "outputId": "dd970694-fc2a-4664-f17f-61b3792d5740"
      },
      "execution_count": null,
      "outputs": [
        {
          "output_type": "execute_result",
          "data": {
            "text/plain": [
              "range(0, 10)"
            ]
          },
          "metadata": {},
          "execution_count": 77
        }
      ]
    },
    {
      "cell_type": "code",
      "source": [
        "for i in range(0,10):\n",
        "    print(i)"
      ],
      "metadata": {
        "colab": {
          "base_uri": "https://localhost:8080/"
        },
        "id": "PhDHUydD-jgF",
        "outputId": "6c1778a5-0a3e-4188-9bff-7a6dbb03cf6a"
      },
      "execution_count": null,
      "outputs": [
        {
          "output_type": "stream",
          "name": "stdout",
          "text": [
            "0\n",
            "1\n",
            "2\n",
            "3\n",
            "4\n",
            "5\n",
            "6\n",
            "7\n",
            "8\n",
            "9\n"
          ]
        }
      ]
    },
    {
      "cell_type": "code",
      "source": [
        "x = [10,20,30,40]"
      ],
      "metadata": {
        "id": "TRBPwoz2-lvg"
      },
      "execution_count": null,
      "outputs": []
    },
    {
      "cell_type": "code",
      "source": [
        "for i in x:\n",
        "    print(i)"
      ],
      "metadata": {
        "colab": {
          "base_uri": "https://localhost:8080/"
        },
        "id": "rU09R16--nHW",
        "outputId": "a6ac39f2-41f6-4958-bb72-2719344ea708"
      },
      "execution_count": null,
      "outputs": [
        {
          "output_type": "stream",
          "name": "stdout",
          "text": [
            "10\n",
            "20\n",
            "30\n",
            "40\n"
          ]
        }
      ]
    },
    {
      "cell_type": "code",
      "source": [
        "for i in 'Deep learning is FUN':\n",
        "    print(i)"
      ],
      "metadata": {
        "colab": {
          "base_uri": "https://localhost:8080/"
        },
        "id": "Ibnxb55V-oG6",
        "outputId": "ff7573ae-1adb-4251-9e64-dd1dae1d96f0"
      },
      "execution_count": null,
      "outputs": [
        {
          "output_type": "stream",
          "name": "stdout",
          "text": [
            "D\n",
            "e\n",
            "e\n",
            "p\n",
            " \n",
            "l\n",
            "e\n",
            "a\n",
            "r\n",
            "n\n",
            "i\n",
            "n\n",
            "g\n",
            " \n",
            "i\n",
            "s\n",
            " \n",
            "F\n",
            "U\n",
            "N\n"
          ]
        }
      ]
    },
    {
      "cell_type": "markdown",
      "source": [
        "## 조건문"
      ],
      "metadata": {
        "id": "5eZ0P2cQ-p5b"
      }
    },
    {
      "cell_type": "code",
      "source": [
        "def check_one(a):\n",
        "    if a == 1:\n",
        "        print('1 입니다')\n",
        "    elif a >= 2:\n",
        "        print('2 이상입니다')\n",
        "    else:\n",
        "        print('1이 아닙니다')"
      ],
      "metadata": {
        "id": "9K6_uq2l-sJH"
      },
      "execution_count": null,
      "outputs": []
    },
    {
      "cell_type": "code",
      "source": [
        "check_one(1)"
      ],
      "metadata": {
        "colab": {
          "base_uri": "https://localhost:8080/"
        },
        "id": "3WJ2_O_0-veV",
        "outputId": "80cbeb93-c854-4e2b-cb14-4f4e55d91153"
      },
      "execution_count": null,
      "outputs": [
        {
          "output_type": "stream",
          "name": "stdout",
          "text": [
            "1 입니다\n"
          ]
        }
      ]
    },
    {
      "cell_type": "code",
      "source": [
        "check_one(2)"
      ],
      "metadata": {
        "colab": {
          "base_uri": "https://localhost:8080/"
        },
        "id": "LB33Us-5-wtc",
        "outputId": "cbaf5803-4cbf-48ad-d100-5b62ee68b225"
      },
      "execution_count": null,
      "outputs": [
        {
          "output_type": "stream",
          "name": "stdout",
          "text": [
            "2 이상입니다\n"
          ]
        }
      ]
    },
    {
      "cell_type": "code",
      "source": [
        "check_one(0)"
      ],
      "metadata": {
        "colab": {
          "base_uri": "https://localhost:8080/"
        },
        "id": "TN6Vg16s-xRI",
        "outputId": "4d7821c0-0e94-441a-d199-513cefa72f35"
      },
      "execution_count": null,
      "outputs": [
        {
          "output_type": "stream",
          "name": "stdout",
          "text": [
            "1이 아닙니다\n"
          ]
        }
      ]
    },
    {
      "cell_type": "code",
      "source": [
        "for i in [10,20,30,40,50]:\n",
        "    if i >= 30:\n",
        "        print(i)"
      ],
      "metadata": {
        "colab": {
          "base_uri": "https://localhost:8080/"
        },
        "id": "wdFChVt8-ySS",
        "outputId": "d5d2c570-15c3-4bcb-ac31-3707c66b288c"
      },
      "execution_count": null,
      "outputs": [
        {
          "output_type": "stream",
          "name": "stdout",
          "text": [
            "30\n",
            "40\n",
            "50\n"
          ]
        }
      ]
    },
    {
      "cell_type": "code",
      "source": [
        "for i in [10,20,30,40,50]:\n",
        "    if i >= 30:\n",
        "        print(i)\n",
        "        break\n",
        "    else:\n",
        "        print(i)"
      ],
      "metadata": {
        "colab": {
          "base_uri": "https://localhost:8080/"
        },
        "id": "EFswGGCU-0VE",
        "outputId": "13c0e284-6337-4095-9c1a-50b643a16b73"
      },
      "execution_count": null,
      "outputs": [
        {
          "output_type": "stream",
          "name": "stdout",
          "text": [
            "10\n",
            "20\n",
            "30\n"
          ]
        }
      ]
    },
    {
      "cell_type": "markdown",
      "source": [
        "## Class(클래스)"
      ],
      "metadata": {
        "id": "6wyyjqCb-3kK"
      }
    },
    {
      "cell_type": "code",
      "source": [
        "class Man:\n",
        "    def __init__(self, name):\n",
        "        self.name = name\n",
        "        print(\"Initialized!\")\n",
        "\n",
        "    def hello(self):\n",
        "        print(\"Hello \" + self.name + \"!\")\n",
        "\n",
        "    def goodbye(self):\n",
        "        print(\"Good-bye \" + self.name + \"!\")"
      ],
      "metadata": {
        "id": "SsGj4fuf_JRN"
      },
      "execution_count": null,
      "outputs": []
    },
    {
      "cell_type": "code",
      "source": [
        "m = Man(\"David\")"
      ],
      "metadata": {
        "colab": {
          "base_uri": "https://localhost:8080/"
        },
        "id": "FbBV_YAd_RLT",
        "outputId": "900c1a64-9c2e-4496-ffcc-35c28be4ed8c"
      },
      "execution_count": null,
      "outputs": [
        {
          "output_type": "stream",
          "name": "stdout",
          "text": [
            "Initialized!\n"
          ]
        }
      ]
    },
    {
      "cell_type": "code",
      "source": [
        "m.hello()"
      ],
      "metadata": {
        "colab": {
          "base_uri": "https://localhost:8080/"
        },
        "id": "z2xFXc9Q_SKl",
        "outputId": "fa6d8295-6a9e-45fd-fcf1-baae68f11839"
      },
      "execution_count": null,
      "outputs": [
        {
          "output_type": "stream",
          "name": "stdout",
          "text": [
            "Hello David!\n"
          ]
        }
      ]
    },
    {
      "cell_type": "code",
      "source": [
        "m.goodbye()"
      ],
      "metadata": {
        "colab": {
          "base_uri": "https://localhost:8080/"
        },
        "id": "6RanQMYM_YKP",
        "outputId": "1520881f-5e6f-4ce6-ed94-7c6338e301f3"
      },
      "execution_count": null,
      "outputs": [
        {
          "output_type": "stream",
          "name": "stdout",
          "text": [
            "Good-bye David!\n"
          ]
        }
      ]
    },
    {
      "cell_type": "markdown",
      "source": [
        "## Matplotlib"
      ],
      "metadata": {
        "id": "0t67ATqW_Zgi"
      }
    },
    {
      "cell_type": "code",
      "source": [
        "import matplotlib.pyplot as plt"
      ],
      "metadata": {
        "id": "YaWbCy08_cbs"
      },
      "execution_count": null,
      "outputs": []
    },
    {
      "cell_type": "code",
      "source": [
        "x = np.arange(0, 6, 0.1)\n",
        "y = np.sin(x)\n",
        "print(x)"
      ],
      "metadata": {
        "colab": {
          "base_uri": "https://localhost:8080/"
        },
        "id": "y4BflCtx_dm-",
        "outputId": "d9d61f56-a98c-4753-ecc9-16b8cadc40aa"
      },
      "execution_count": null,
      "outputs": [
        {
          "output_type": "stream",
          "name": "stdout",
          "text": [
            "[0.  0.1 0.2 0.3 0.4 0.5 0.6 0.7 0.8 0.9 1.  1.1 1.2 1.3 1.4 1.5 1.6 1.7\n",
            " 1.8 1.9 2.  2.1 2.2 2.3 2.4 2.5 2.6 2.7 2.8 2.9 3.  3.1 3.2 3.3 3.4 3.5\n",
            " 3.6 3.7 3.8 3.9 4.  4.1 4.2 4.3 4.4 4.5 4.6 4.7 4.8 4.9 5.  5.1 5.2 5.3\n",
            " 5.4 5.5 5.6 5.7 5.8 5.9]\n"
          ]
        }
      ]
    },
    {
      "cell_type": "code",
      "source": [
        "plt.plot(x, y)\n",
        "plt.show()"
      ],
      "metadata": {
        "colab": {
          "base_uri": "https://localhost:8080/",
          "height": 430
        },
        "id": "JppQkBSy_e6C",
        "outputId": "01f9ad8b-df4d-4156-a3b5-fcdd5bf89e9e"
      },
      "execution_count": null,
      "outputs": [
        {
          "output_type": "display_data",
          "data": {
            "text/plain": [
              "<Figure size 640x480 with 1 Axes>"
            ],
            "image/png": "[encoded data removed]"
          },
          "metadata": {}
        }
      ]
    },
    {
      "cell_type": "code",
      "source": [
        "x = np.arange(0, 6, 0.1)\n",
        "y1 = np.sin(x)\n",
        "y2 = np.cos(x)\n",
        "\n",
        "plt.plot(x, y1, label = \"sin\")\n",
        "plt.plot(x, y2, linestyle = \"--\", label = \"cos\")\n",
        "plt.xlabel(\"x\")\n",
        "plt.ylabel(\"y\")\n",
        "plt.title('sin & cos')\n",
        "plt.legend()\n",
        "plt.show()"
      ],
      "metadata": {
        "colab": {
          "base_uri": "https://localhost:8080/",
          "height": 472
        },
        "id": "z1xTXznz_iYT",
        "outputId": "11b38756-ab91-4ac8-9e0f-3ee2af61fc22"
      },
      "execution_count": null,
      "outputs": [
        {
          "output_type": "display_data",
          "data": {
            "text/plain": [
              "<Figure size 640x480 with 1 Axes>"
            ],
            "image/png": "[encoded data removed]"
          },
          "metadata": {}
        }
      ]
    },
    {
      "cell_type": "markdown",
      "source": [
        "# 2. 퍼셉트론"
      ],
      "metadata": {
        "id": "j_t1K8BD_kyE"
      }
    },
    {
      "cell_type": "markdown",
      "source": [
        "### AND 게이트"
      ],
      "metadata": {
        "id": "J_MXJdphCLH0"
      }
    },
    {
      "cell_type": "markdown",
      "source": [
        "![AND](https://github.com/Koo-BM/deeplearning_from_bottom/assets/93233323/ec0f5e25-6221-47bb-93c0-6919c7288ce5)"
      ],
      "metadata": {
        "id": "fkMiI8t2_7Ft"
      }
    },
    {
      "cell_type": "code",
      "source": [
        "def AND(x1, x2):\n",
        "    w1, w2, theta = 0.5, 0.5, 0.7\n",
        "    tmp = x1*w1 + x2*w2\n",
        "    if tmp <= theta:\n",
        "        return 0\n",
        "    elif tmp > theta:\n",
        "        return 1"
      ],
      "metadata": {
        "id": "SVS_WKcV_pvZ"
      },
      "execution_count": null,
      "outputs": []
    },
    {
      "cell_type": "code",
      "source": [
        "print(AND(0, 0))\n",
        "print(AND(1, 0))\n",
        "print(AND(0, 1))\n",
        "print(AND(1, 1))"
      ],
      "metadata": {
        "colab": {
          "base_uri": "https://localhost:8080/"
        },
        "id": "zsAMr4oWCNXJ",
        "outputId": "6bdc0e0e-430b-4f4c-dc84-763992b095e8"
      },
      "execution_count": null,
      "outputs": [
        {
          "output_type": "stream",
          "name": "stdout",
          "text": [
            "0\n",
            "0\n",
            "0\n",
            "1\n"
          ]
        }
      ]
    },
    {
      "cell_type": "markdown",
      "source": [
        "- 편향 도입 + 넘파이 배열 사용"
      ],
      "metadata": {
        "id": "uKT249duCa5t"
      }
    },
    {
      "cell_type": "code",
      "source": [
        "import numpy as np"
      ],
      "metadata": {
        "id": "uzRSGfoZCjx0"
      },
      "execution_count": null,
      "outputs": []
    },
    {
      "cell_type": "code",
      "source": [
        "x = np.array([0,1])\n",
        "w = np.array([0.5, 0.5])"
      ],
      "metadata": {
        "id": "Y4snoxMdCoRF"
      },
      "execution_count": null,
      "outputs": []
    },
    {
      "cell_type": "code",
      "source": [
        "b = -0.7\n",
        "print(np.sum(w*x))\n",
        "print(np.sum(w*x) + b)"
      ],
      "metadata": {
        "colab": {
          "base_uri": "https://localhost:8080/"
        },
        "id": "B6pUYaZcCpOC",
        "outputId": "ab82996d-3733-4e8e-b142-df58fdef5e57"
      },
      "execution_count": null,
      "outputs": [
        {
          "output_type": "stream",
          "name": "stdout",
          "text": [
            "0.5\n",
            "-0.19999999999999996\n"
          ]
        }
      ]
    },
    {
      "cell_type": "code",
      "source": [
        "def AND(x1, x2):\n",
        "    x = np.array([x1, x2])\n",
        "    w = np.array([0.5, 0.5])\n",
        "    b = -0.7\n",
        "    tmp = np.sum(w*x) + b\n",
        "    if tmp <= 0:\n",
        "        return 0\n",
        "    else: return 1"
      ],
      "metadata": {
        "id": "uKp83wYQDKeN"
      },
      "execution_count": null,
      "outputs": []
    },
    {
      "cell_type": "code",
      "source": [
        "print(AND(0, 0))\n",
        "print(AND(1, 0))\n",
        "print(AND(0, 1))\n",
        "print(AND(1, 1))"
      ],
      "metadata": {
        "colab": {
          "base_uri": "https://localhost:8080/"
        },
        "id": "H6Oj4MELDMnR",
        "outputId": "440eb026-c33a-4fdd-fa18-12fd529b848b"
      },
      "execution_count": null,
      "outputs": [
        {
          "output_type": "stream",
          "name": "stdout",
          "text": [
            "0\n",
            "0\n",
            "0\n",
            "1\n"
          ]
        }
      ]
    },
    {
      "cell_type": "markdown",
      "source": [
        "## NAND 게이트"
      ],
      "metadata": {
        "id": "PNo7U5wzDOzI"
      }
    },
    {
      "cell_type": "markdown",
      "source": [
        "![image](https://github.com/Koo-BM/deeplearning_from_bottom/assets/93233323/f409ccad-c771-4c64-83a7-0d155902805c)"
      ],
      "metadata": {
        "id": "GLetdFFyDSiW"
      }
    },
    {
      "cell_type": "code",
      "source": [
        "def NAND(x1, x2):\n",
        "    x = np.array([x1, x2])\n",
        "    w = np.array([-0.5, -0.5])\n",
        "    b = 0.7\n",
        "    tmp = np.sum(w*x) + b\n",
        "    if tmp <= 0:\n",
        "        return 0\n",
        "    else:\n",
        "        return 1"
      ],
      "metadata": {
        "id": "HKxG8_iPDa2F"
      },
      "execution_count": null,
      "outputs": []
    },
    {
      "cell_type": "code",
      "source": [
        "print(NAND(0, 0))\n",
        "print(NAND(1, 0))\n",
        "print(NAND(0, 1))\n",
        "print(NAND(1, 1))"
      ],
      "metadata": {
        "colab": {
          "base_uri": "https://localhost:8080/"
        },
        "id": "TxXQC5QUDd3R",
        "outputId": "ac444cbd-5736-4fa9-9fff-a69963a64394"
      },
      "execution_count": null,
      "outputs": [
        {
          "output_type": "stream",
          "name": "stdout",
          "text": [
            "1\n",
            "1\n",
            "1\n",
            "0\n"
          ]
        }
      ]
    },
    {
      "cell_type": "markdown",
      "source": [
        "## OR 게이트"
      ],
      "metadata": {
        "id": "D4ygDmoZDhAq"
      }
    },
    {
      "cell_type": "markdown",
      "source": [
        "![image](https://github.com/Koo-BM/deeplearning_from_bottom/assets/93233323/7ac330e6-405a-4bb1-82a1-af3f437cccb6)"
      ],
      "metadata": {
        "id": "WD_KQ8BEDqiB"
      }
    },
    {
      "cell_type": "code",
      "source": [
        "def OR(x1, x2):\n",
        "    x = np.array([x1, x2])\n",
        "    w = np.array([0.5, 0.5])\n",
        "    b = -0.2\n",
        "    tmp = np.sum(w*x) + b\n",
        "    if tmp <= 0:\n",
        "        return 0\n",
        "    else:\n",
        "        return 1"
      ],
      "metadata": {
        "id": "lcThuq_gDkIQ"
      },
      "execution_count": null,
      "outputs": []
    },
    {
      "cell_type": "code",
      "source": [
        "print(OR(0, 0))\n",
        "print(OR(1, 0))\n",
        "print(OR(0, 1))\n",
        "print(OR(1, 1))"
      ],
      "metadata": {
        "colab": {
          "base_uri": "https://localhost:8080/"
        },
        "id": "ZKo0G2MnDmOe",
        "outputId": "c0586113-a5fd-4ca1-807f-840717312066"
      },
      "execution_count": null,
      "outputs": [
        {
          "output_type": "stream",
          "name": "stdout",
          "text": [
            "0\n",
            "1\n",
            "1\n",
            "1\n"
          ]
        }
      ]
    },
    {
      "cell_type": "markdown",
      "source": [
        "## XOR 게이트"
      ],
      "metadata": {
        "id": "zR1j13vqDooe"
      }
    },
    {
      "cell_type": "markdown",
      "source": [
        "![image](https://github.com/Koo-BM/deeplearning_from_bottom/assets/93233323/ff2de871-b1f5-4c3d-8436-3c634d10e3fc)"
      ],
      "metadata": {
        "id": "9-QQ5sPDEQpI"
      }
    },
    {
      "cell_type": "markdown",
      "source": [
        "비선형적으로 구성 --> NAND, OR, AND를 층을 쌓아서 구성"
      ],
      "metadata": {
        "id": "j9tGmdz8EY5P"
      }
    },
    {
      "cell_type": "code",
      "source": [
        "def XOR(x1, x2):\n",
        "    s1 = NAND(x1, x2)\n",
        "    s2 = OR(x1, x2)\n",
        "    y = AND(s1, s2)\n",
        "    return y"
      ],
      "metadata": {
        "id": "EdrPO8GOEayj"
      },
      "execution_count": null,
      "outputs": []
    },
    {
      "cell_type": "code",
      "source": [
        "print(XOR(0, 0))\n",
        "print(XOR(1, 0))\n",
        "print(XOR(0, 1))\n",
        "print(XOR(1, 1))"
      ],
      "metadata": {
        "colab": {
          "base_uri": "https://localhost:8080/"
        },
        "id": "JMRHnLYfEiwr",
        "outputId": "0fa8add4-4aba-47c4-ddc3-ca4ca081c896"
      },
      "execution_count": null,
      "outputs": [
        {
          "output_type": "stream",
          "name": "stdout",
          "text": [
            "0\n",
            "1\n",
            "1\n",
            "0\n"
          ]
        }
      ]
    }
  ]
}