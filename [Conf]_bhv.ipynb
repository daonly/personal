{
  "nbformat": 4,
  "nbformat_minor": 0,
  "metadata": {
    "colab": {
      "provenance": [],
      "authorship_tag": "ABX9TyObEtioVbMDvpcSJiVUllbA",
      "include_colab_link": true
    },
    "kernelspec": {
      "name": "python3",
      "display_name": "Python 3"
    },
    "language_info": {
      "name": "python"
    }
  },
  "cells": [
    {
      "cell_type": "markdown",
      "metadata": {
        "id": "view-in-github",
        "colab_type": "text"
      },
      "source": [
        "<a href=\"https://colab.research.google.com/github/daonly/personal/blob/main/%5BConf%5D_bhv.ipynb\" target=\"_parent\"><img src=\"https://colab.research.google.com/assets/colab-badge.svg\" alt=\"Open In Colab\"/></a>"
      ]
    },
    {
      "cell_type": "code",
      "execution_count": null,
      "metadata": {
        "id": "UMMKtzS6W7br"
      },
      "outputs": [],
      "source": [
        "### preparation\n",
        "\n",
        "import os\n",
        "import glob\n",
        "\n",
        "### set path\n",
        "\n",
        "basepath = r'C:/Users/daonly/Desktop/Res/Conformity'\n",
        "\n",
        ""
      ]
    },
    {
      "cell_type": "code",
      "source": [
        "### HCT raw file setting\n",
        "\n",
        "datapath =\n",
        "datapath = r'C:/Users/daonly/Desktop/Res/Conformity/data/bhv'\n",
        "savepath = r'C:/Users/daonly/Desktop/Res/Conformity/analysis/bhv'\n",
        "\n",
        "taskname = 'Cardiac'"
      ],
      "metadata": {
        "id": "6Uzgs4Fjak-Q"
      },
      "execution_count": null,
      "outputs": []
    },
    {
      "cell_type": "code",
      "source": [
        "### HCT analysis\n",
        "\n"
      ],
      "metadata": {
        "id": "lgpK8olPbaaj"
      },
      "execution_count": null,
      "outputs": []
    }
  ]
}