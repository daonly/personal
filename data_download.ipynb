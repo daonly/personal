{
  "nbformat": 4,
  "nbformat_minor": 0,
  "metadata": {
    "colab": {
      "provenance": [],
      "include_colab_link": true
    },
    "kernelspec": {
      "name": "python3",
      "display_name": "Python 3"
    },
    "language_info": {
      "name": "python"
    }
  },
  "cells": [
    {
      "cell_type": "markdown",
      "metadata": {
        "id": "view-in-github",
        "colab_type": "text"
      },
      "source": [
        "<a href=\"https://colab.research.google.com/github/daonly/personal/blob/main/data_download.ipynb\" target=\"_parent\"><img src=\"https://colab.research.google.com/assets/colab-badge.svg\" alt=\"Open In Colab\"/></a>"
      ]
    },
    {
      "cell_type": "markdown",
      "source": [
        "# Starting Colab\n",
        "## Colab?\n",
        "- 구글에서 제공하는 클라우드 기반 주피터 노트북 환경\n",
        "    - 데이터 분석에 많이 사용되는 기본 패키지가 이미 설치되어 있음\n",
        "- 고사양 컴퓨터를 무료로 제공하지만 최대 세션 시간이 12시간으로 제한됨\n",
        "    - 세션 종료 후에는 데이터가 사라지므로 주의\n",
        "- 개인 계정의 google drive와 연동해서 사용 가능\n",
        "\n",
        "## 준비사항\n",
        "- 구글 계정, google drive 의 여유공간\n",
        "\n",
        "## Colab 실행하기\n",
        "- colab.research.google.com 접속"
      ],
      "metadata": {
        "id": "UZSeAqgASuMt"
      }
    },
    {
      "cell_type": "markdown",
      "source": [
        "# Mount google drive & download dataset\n"
      ],
      "metadata": {
        "id": "0O7yZM6U4Slx"
      }
    },
    {
      "cell_type": "code",
      "source": [
        "from google.colab import drive\n",
        "drive.mount('/content/drive')"
      ],
      "metadata": {
        "id": "VyP4jUn_3ahr",
        "colab": {
          "base_uri": "https://localhost:8080/"
        },
        "outputId": "d6932215-da6e-4380-cb17-5a87726ccf12"
      },
      "execution_count": null,
      "outputs": [
        {
          "output_type": "stream",
          "name": "stdout",
          "text": [
            "Mounted at /content/drive\n"
          ]
        }
      ]
    },
    {
      "cell_type": "code",
      "source": [
        "import os\n",
        "\n",
        "if not os.path.exists('/content/drive/MyDrive/Colab Notebooks'):\n",
        "    os.makedirs('/content/drive/MyDrive/Colab Notebooks')\n",
        "\n",
        "bids_dir = '/content/drive/MyDrive/Colab Notebooks/2023_BK_seminar'\n",
        "data_dir = os.path.join(bids_dir,'derivatives','data')\n",
        "\n",
        "\n",
        "\n",
        "\n",
        "#### download necessary dataset ####\n",
        "if not os.path.exists(data_dir):\n",
        "\n",
        "    !pip install pydrive\n",
        "    print('\\n\\n')\n",
        "    from pydrive.auth import GoogleAuth\n",
        "    from pydrive.drive import GoogleDrive\n",
        "    from google.colab import auth\n",
        "    from oauth2client.client import GoogleCredentials\n",
        "    auth.authenticate_user()\n",
        "    gauth = GoogleAuth()\n",
        "    gauth.credentials = GoogleCredentials.get_application_default()\n",
        "    drive = GoogleDrive(gauth)\n",
        "\n",
        "    os.makedirs(bids_dir)\n",
        "    # Downloading the data from Google drive link\n",
        "    os.chdir(bids_dir)\n",
        "    data_zip = drive.CreateFile({'id':'1dY9kScPNLfDH5xx48jSPqRQEgc6NUKA7'})\n",
        "    data_zip.GetContentFile('2023_BK_seminar.zip')\n",
        "    !unzip 2023_BK_seminar.zip\n",
        "\n",
        "    print('\\n ==> Download & Unzip complete')\n",
        "\n",
        "else:\n",
        "    print('\\n ==> Data exists')"
      ],
      "metadata": {
        "id": "zieLB9P13Y9u"
      },
      "execution_count": null,
      "outputs": []
    },
    {
      "cell_type": "markdown",
      "source": [
        "# Directory structure\n",
        "### /2023_BK_seminar\n",
        "- /derivatives/\n",
        "    - data\n",
        "        - /contrasts/SD_XX_xxx.nii   --- 120 images\n",
        "        - SD_likeRating.xlsx\n",
        "- /materials/\n",
        "    - roi/dmpfc, pgacc, vmpfc.nii\n",
        "    - k50.nii\n",
        "- /codes/\n",
        "    - rsa, svc, data_download.ipynb\n",
        "\n",
        "\n",
        "# 주피터 노트북 링크\n",
        "RSA\n",
        "\n",
        "https://colab.research.google.com/drive/1J7eKCuhPBmpEYw5oocBWdJom-mFOEd0g?usp=drive_link\n",
        "\n",
        "SVC\n",
        "\n",
        "https://colab.research.google.com/drive/1kVaOw3miJJZUfJHUw8LW4K7vX6Xf7hRE?usp=drive_link"
      ],
      "metadata": {
        "id": "aLFJ4_W34arl"
      }
    },
    {
      "cell_type": "code",
      "execution_count": null,
      "metadata": {
        "id": "Xg5FXj2RyhHd"
      },
      "outputs": [],
      "source": []
    }
  ]
}