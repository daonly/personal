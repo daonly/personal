{
  "cells": [
    {
      "cell_type": "markdown",
      "metadata": {
        "id": "view-in-github",
        "colab_type": "text"
      },
      "source": [
        "<a href=\"https://colab.research.google.com/github/daonly/personal/blob/main/23_2_%EB%8D%B0%EC%9D%B4%ED%84%B0%EA%B3%BC%ED%95%99%EC%9D%84%EC%9C%84%ED%95%9C%EC%88%98%ED%95%99%EA%B3%BC%ED%94%84%EB%A1%9C%EA%B7%B8%EB%9E%98%EB%B0%8D_%EC%8B%A4%EC%8A%B5_1.ipynb\" target=\"_parent\"><img src=\"https://colab.research.google.com/assets/colab-badge.svg\" alt=\"Open In Colab\"/></a>"
      ]
    },
    {
      "cell_type": "markdown",
      "metadata": {
        "id": "B3vk6q0VJpbG"
      },
      "source": [
        "## Python 기본"
      ]
    },
    {
      "cell_type": "markdown",
      "metadata": {
        "id": "6Sg92bAS8oG_"
      },
      "source": [
        "Welcome to Python! Python은 쉬우면서도 강력한 프로그래밍 언어로 데이터 과학 및 기타 분야에서 널리 사용되는 언어입니다.\n",
        "\n",
        "Python을 Google Colaboratory(이하 Colab)에서 실습해봅니다. Colab은 Jupyter Notebook 환경을 Cloud로 제공하는 서비스입니다.\n",
        "\n",
        "Jupyter Notebook은 데이터 과학자가 코드 실행 결과를 바로 확인할 수 있는 장점이 있습니다. 책을 Jupyter Notebook으로만 작성할 수도 있습니다. [(예시)](https://github.com/fastai/fastbook)"
      ]
    },
    {
      "cell_type": "markdown",
      "metadata": {
        "id": "IAZXeoR0-PCY"
      },
      "source": [
        "### 1. 파이썬을 계산기로 사용하기"
      ]
    },
    {
      "cell_type": "markdown",
      "metadata": {
        "id": "qVeZuNqn_6y9"
      },
      "source": [
        "산수를 위해서 더하기는 '+', 빼기는 '-', 곱하기는 '*' 그리고 나누기는 '/' 가 사용됩니다. 괄호 '('와 ')'를 통해 연산 순위를 지정하거나 바꿀 수 있습니다."
      ]
    },
    {
      "cell_type": "code",
      "execution_count": 1,
      "metadata": {
        "id": "zGleQEsHFkkR",
        "outputId": "1ae62424-4ad4-4b8e-8a52-95b476925cc3",
        "colab": {
          "base_uri": "https://localhost:8080/"
        }
      },
      "outputs": [
        {
          "output_type": "execute_result",
          "data": {
            "text/plain": [
              "3"
            ]
          },
          "metadata": {},
          "execution_count": 1
        }
      ],
      "source": [
        "# ctrl+enter 하면 cell 실행.\n",
        "# shift+enter 하면 cell 실행 + 다음 cell로 넘어감.\n",
        "\n",
        "1+2"
      ]
    },
    {
      "cell_type": "code",
      "execution_count": 2,
      "metadata": {
        "id": "jzXzYGzQFtoU",
        "outputId": "87580528-f3e8-47e5-c498-80a4a31f1c0d",
        "colab": {
          "base_uri": "https://localhost:8080/"
        }
      },
      "outputs": [
        {
          "output_type": "execute_result",
          "data": {
            "text/plain": [
              "8"
            ]
          },
          "metadata": {},
          "execution_count": 2
        }
      ],
      "source": [
        "20-12"
      ]
    },
    {
      "cell_type": "code",
      "execution_count": null,
      "metadata": {
        "id": "vCzpOgmJF3R8"
      },
      "outputs": [],
      "source": []
    },
    {
      "cell_type": "code",
      "execution_count": null,
      "metadata": {
        "id": "jBGz2ZwJF7Pd"
      },
      "outputs": [],
      "source": []
    },
    {
      "cell_type": "code",
      "execution_count": 3,
      "metadata": {
        "id": "m6mR9XSwDcfd",
        "outputId": "8ff5f95c-2aac-43a4-f07d-59391f5a93d5",
        "colab": {
          "base_uri": "https://localhost:8080/"
        }
      },
      "outputs": [
        {
          "output_type": "execute_result",
          "data": {
            "text/plain": [
              "66.66666666666667"
            ]
          },
          "metadata": {},
          "execution_count": 3
        }
      ],
      "source": [
        "200/3"
      ]
    },
    {
      "cell_type": "markdown",
      "metadata": {
        "id": "HsbvFM3BDEOn"
      },
      "source": [
        "거듭제곱은 `**` 연산자를 사용합니다."
      ]
    },
    {
      "cell_type": "code",
      "execution_count": 4,
      "metadata": {
        "id": "lL07hHouDJS0",
        "outputId": "5a8e189b-6fc6-4988-fe89-55b831448228",
        "colab": {
          "base_uri": "https://localhost:8080/"
        }
      },
      "outputs": [
        {
          "output_type": "execute_result",
          "data": {
            "text/plain": [
              "25"
            ]
          },
          "metadata": {},
          "execution_count": 4
        }
      ],
      "source": [
        "5**2"
      ]
    },
    {
      "cell_type": "markdown",
      "metadata": {
        "id": "GFyKiTfiWJul"
      },
      "source": [
        "몫과 나머지에 대한 연산은 각각 `//`와 `%` 연산자를 사용합니다."
      ]
    },
    {
      "cell_type": "code",
      "execution_count": 5,
      "metadata": {
        "id": "Ps0sSBKiWJul",
        "outputId": "21a9aadf-8e5d-4dcd-ccef-342ef7cd7053",
        "colab": {
          "base_uri": "https://localhost:8080/"
        }
      },
      "outputs": [
        {
          "output_type": "execute_result",
          "data": {
            "text/plain": [
              "2"
            ]
          },
          "metadata": {},
          "execution_count": 5
        }
      ],
      "source": [
        "5 // 2"
      ]
    },
    {
      "cell_type": "code",
      "execution_count": 6,
      "metadata": {
        "id": "g5iYl2RrWJul",
        "outputId": "8989c99d-19ba-49dd-fbaf-54661cfdc583",
        "colab": {
          "base_uri": "https://localhost:8080/"
        }
      },
      "outputs": [
        {
          "output_type": "execute_result",
          "data": {
            "text/plain": [
              "1"
            ]
          },
          "metadata": {},
          "execution_count": 6
        }
      ],
      "source": [
        "5 % 2"
      ]
    },
    {
      "cell_type": "markdown",
      "metadata": {
        "id": "Suf_O-qIEG9v"
      },
      "source": [
        "### 2. 문자열 사용하기"
      ]
    },
    {
      "cell_type": "markdown",
      "metadata": {
        "id": "2vAM0FidEJvX"
      },
      "source": [
        "Python에서 문자열은 Single quotes나 (`'...'`) Double quotes (`\"...\"`)를 사용합니다."
      ]
    },
    {
      "cell_type": "code",
      "execution_count": null,
      "metadata": {
        "id": "LPWi-KRJDa6h"
      },
      "outputs": [],
      "source": []
    },
    {
      "cell_type": "code",
      "execution_count": null,
      "metadata": {
        "id": "zHOg_StnEiLC"
      },
      "outputs": [],
      "source": []
    },
    {
      "cell_type": "code",
      "execution_count": null,
      "metadata": {
        "id": "U8_ElaHyEp95"
      },
      "outputs": [],
      "source": []
    },
    {
      "cell_type": "markdown",
      "metadata": {
        "id": "iWqYO33mGG9j"
      },
      "source": [
        "따옴표(quotes)를 문자 안에 쓰고 싶을 때, 두 가지 방법이 있습니다."
      ]
    },
    {
      "cell_type": "code",
      "execution_count": 7,
      "metadata": {
        "id": "qpjMqhsZFlsF",
        "outputId": "39ee7e9b-5a76-4e12-cef6-8cf190112eac",
        "colab": {
          "base_uri": "https://localhost:8080/",
          "height": 35
        }
      },
      "outputs": [
        {
          "output_type": "execute_result",
          "data": {
            "text/plain": [
              "'\"모자가 멋지군요\" 나는 슬쩍 떠보았다.'"
            ],
            "application/vnd.google.colaboratory.intrinsic+json": {
              "type": "string"
            }
          },
          "metadata": {},
          "execution_count": 7
        }
      ],
      "source": [
        "# 따옴표를 구분해서 쓰면 ㄱㄴ\n",
        "\n",
        "'\"모자가 멋지군요\" 나는 슬쩍 떠보았다.'"
      ]
    },
    {
      "cell_type": "code",
      "execution_count": 8,
      "metadata": {
        "id": "yJYtHU_LF1aY",
        "outputId": "fc612537-97f5-4077-b0db-a533f2498a11",
        "colab": {
          "base_uri": "https://localhost:8080/",
          "height": 35
        }
      },
      "outputs": [
        {
          "output_type": "execute_result",
          "data": {
            "text/plain": [
              "'\"모자가 멋지군요\" 나는 슬쩍 떠보았다.'"
            ],
            "application/vnd.google.colaboratory.intrinsic+json": {
              "type": "string"
            }
          },
          "metadata": {},
          "execution_count": 8
        }
      ],
      "source": [
        "# 이스케이프 형식을 사용\n",
        "\"\\\"모자가 멋지군요\\\" 나는 슬쩍 떠보았다.\""
      ]
    },
    {
      "cell_type": "markdown",
      "source": [
        "참고: [w3shcool - Python escape characters](https://www.w3schools.com/python/gloss_python_escape_characters.asp)"
      ],
      "metadata": {
        "id": "x2gyZhVvmhD8"
      }
    },
    {
      "cell_type": "markdown",
      "metadata": {
        "id": "pXNQ_Z2RWJum"
      },
      "source": [
        "`\\` 뒤에 나오는 문자가 특수 문자로 취급되게 하고 싶지 않다면, 첫 따옴표 앞에 r 을 붙여서 날 문자열 (raw string) 을 만들 수 있습니다. `r'<경로>'`는 데이터를 불러올 때 특히 편합니다."
      ]
    },
    {
      "cell_type": "code",
      "execution_count": 9,
      "metadata": {
        "id": "gOBFsl0zWJum",
        "outputId": "9f58b976-1207-4ffa-af10-a6571503fac9",
        "colab": {
          "base_uri": "https://localhost:8080/"
        }
      },
      "outputs": [
        {
          "output_type": "stream",
          "name": "stdout",
          "text": [
            "C:\\some\n",
            "ame\n"
          ]
        }
      ],
      "source": [
        "# 경로에서 특수문자가 아니라 그냥 문자열로 취급하게 하려면 이렇게 하면 안됨.\n",
        "print('C:\\some\\name')"
      ]
    },
    {
      "cell_type": "code",
      "execution_count": 10,
      "metadata": {
        "id": "B6dPqAvnWJum",
        "outputId": "e028e90a-7d2b-423f-8cfc-c181dfb8fc57",
        "colab": {
          "base_uri": "https://localhost:8080/"
        }
      },
      "outputs": [
        {
          "output_type": "stream",
          "name": "stdout",
          "text": [
            "C:\\some\\name\n"
          ]
        }
      ],
      "source": [
        "print(r'C:\\some\\name')"
      ]
    },
    {
      "cell_type": "markdown",
      "metadata": {
        "id": "z6AwlXOfGwZw"
      },
      "source": [
        "Python에서는 문자를 계산할 수도 있습니다."
      ]
    },
    {
      "cell_type": "code",
      "execution_count": 11,
      "metadata": {
        "id": "0af0pMtUGz_B",
        "outputId": "6a7debe5-769e-44fc-cae7-4ee2fea00106",
        "colab": {
          "base_uri": "https://localhost:8080/",
          "height": 35
        }
      },
      "outputs": [
        {
          "output_type": "execute_result",
          "data": {
            "text/plain": [
              "'banana'"
            ],
            "application/vnd.google.colaboratory.intrinsic+json": {
              "type": "string"
            }
          },
          "metadata": {},
          "execution_count": 11
        }
      ],
      "source": [
        "'ba'+'na'*2"
      ]
    },
    {
      "cell_type": "markdown",
      "metadata": {
        "id": "sUDc0ZLmIREQ"
      },
      "source": [
        "두 개 이상의 문자열 리터럴 (즉, 따옴표로 둘러싸인 것들) 가 연속해서 나타나면 자동으로 이어 붙여집니다."
      ]
    },
    {
      "cell_type": "code",
      "execution_count": 12,
      "metadata": {
        "id": "QiBuXwL8IZy2",
        "outputId": "bd7e29a6-32e0-4b97-a65a-de6074f84335",
        "colab": {
          "base_uri": "https://localhost:8080/",
          "height": 35
        }
      },
      "outputs": [
        {
          "output_type": "execute_result",
          "data": {
            "text/plain": [
              "'생활양식'"
            ],
            "application/vnd.google.colaboratory.intrinsic+json": {
              "type": "string"
            }
          },
          "metadata": {},
          "execution_count": 12
        }
      ],
      "source": [
        "'생활' '양식'"
      ]
    },
    {
      "cell_type": "code",
      "execution_count": 13,
      "metadata": {
        "id": "t2PuM3c6HDN3",
        "outputId": "dd66b98c-3e3e-49ed-f480-427e452c0bc1",
        "colab": {
          "base_uri": "https://localhost:8080/",
          "height": 35
        }
      },
      "outputs": [
        {
          "output_type": "execute_result",
          "data": {
            "text/plain": [
              "'안녕하세요'"
            ],
            "application/vnd.google.colaboratory.intrinsic+json": {
              "type": "string"
            }
          },
          "metadata": {},
          "execution_count": 13
        }
      ],
      "source": [
        "# R의 chain method?처럼 보기 쉬운 코드 만들 때 좋다~\n",
        " ('안녕'\n",
        "'하세요')"
      ]
    },
    {
      "cell_type": "markdown",
      "source": [
        "참고: [Pandas chain method](https://practicaldatascience.co.uk/data-science/how-to-use-method-chaining-in-pandas)"
      ],
      "metadata": {
        "id": "VSKFmhBSm2uy"
      }
    },
    {
      "cell_type": "markdown",
      "metadata": {
        "id": "Xwm-7Rn3JNSC"
      },
      "source": [
        "### 3. 변수"
      ]
    },
    {
      "cell_type": "markdown",
      "metadata": {
        "id": "Qo4W5hCIWJum"
      },
      "source": [
        "변수는 등호 `=` 를 사용하여 할당합니다."
      ]
    },
    {
      "cell_type": "code",
      "execution_count": 14,
      "metadata": {
        "id": "GLKknyq6WJum"
      },
      "outputs": [],
      "source": [
        "radius = 2"
      ]
    },
    {
      "cell_type": "code",
      "execution_count": 15,
      "metadata": {
        "id": "uY-K-ECiWJum",
        "outputId": "e91a969b-d4e8-40e7-a255-9b477ec00f20",
        "colab": {
          "base_uri": "https://localhost:8080/"
        }
      },
      "outputs": [
        {
          "output_type": "execute_result",
          "data": {
            "text/plain": [
              "12.56"
            ]
          },
          "metadata": {},
          "execution_count": 15
        }
      ],
      "source": [
        "3.14 * (radius**2)"
      ]
    },
    {
      "cell_type": "code",
      "execution_count": 16,
      "metadata": {
        "id": "CaZtUYmNWJum",
        "outputId": "9f47a2e9-2b36-47fe-99d7-54a08cb78969",
        "colab": {
          "base_uri": "https://localhost:8080/"
        }
      },
      "outputs": [
        {
          "output_type": "execute_result",
          "data": {
            "text/plain": [
              "9.0"
            ]
          },
          "metadata": {},
          "execution_count": 16
        }
      ],
      "source": [
        "base = 6.0\n",
        "height = 3\n",
        "1/2 * base * height"
      ]
    },
    {
      "cell_type": "markdown",
      "metadata": {
        "id": "J_yjfLlGWJum"
      },
      "source": [
        "변수의 자료형은 `type` 함수를 통해서 확인할 수 있습니다."
      ]
    },
    {
      "cell_type": "code",
      "execution_count": 17,
      "metadata": {
        "id": "dqDG947qWJum",
        "outputId": "5f6805b1-40c2-49ac-e0de-4ce29637fc02",
        "colab": {
          "base_uri": "https://localhost:8080/"
        }
      },
      "outputs": [
        {
          "output_type": "execute_result",
          "data": {
            "text/plain": [
              "int"
            ]
          },
          "metadata": {},
          "execution_count": 17
        }
      ],
      "source": [
        "type(radius)"
      ]
    },
    {
      "cell_type": "code",
      "execution_count": 18,
      "metadata": {
        "id": "g83zl_swWJum",
        "outputId": "51e066e7-318d-4884-e96d-5af17296498b",
        "colab": {
          "base_uri": "https://localhost:8080/"
        }
      },
      "outputs": [
        {
          "output_type": "execute_result",
          "data": {
            "text/plain": [
              "float"
            ]
          },
          "metadata": {},
          "execution_count": 18
        }
      ],
      "source": [
        "type(base)"
      ]
    },
    {
      "cell_type": "markdown",
      "source": [
        "참고: [w3school - Python data types](https://www.w3schools.com/python/python_datatypes.asp)"
      ],
      "metadata": {
        "id": "RAf8UKrwnUzQ"
      }
    },
    {
      "cell_type": "markdown",
      "metadata": {
        "id": "zET7eiVdJgpA"
      },
      "source": [
        "### 4. 리스트"
      ]
    },
    {
      "cell_type": "markdown",
      "metadata": {
        "id": "2XlyA7R8WJuq"
      },
      "source": [
        "리스트 자료형은 여러 값을 묶는 것에 사용되어, 데이터를 능숙히 다루기 위해서 익숙해지면 좋습니다."
      ]
    },
    {
      "cell_type": "code",
      "execution_count": 19,
      "metadata": {
        "id": "duhQc5FhWJuq",
        "outputId": "714e5b9f-0957-4f06-accc-5c608b4433d5",
        "colab": {
          "base_uri": "https://localhost:8080/"
        }
      },
      "outputs": [
        {
          "output_type": "execute_result",
          "data": {
            "text/plain": [
              "[]"
            ]
          },
          "metadata": {},
          "execution_count": 19
        }
      ],
      "source": [
        "list()"
      ]
    },
    {
      "cell_type": "code",
      "execution_count": 20,
      "metadata": {
        "id": "qHTZntaBWJuq",
        "outputId": "7496b872-96b0-414e-a68d-d6a5ad071b78",
        "colab": {
          "base_uri": "https://localhost:8080/"
        }
      },
      "outputs": [
        {
          "output_type": "execute_result",
          "data": {
            "text/plain": [
              "[]"
            ]
          },
          "metadata": {},
          "execution_count": 20
        }
      ],
      "source": [
        "[]"
      ]
    },
    {
      "cell_type": "markdown",
      "metadata": {
        "id": "8zqD8kO2WJur"
      },
      "source": [
        "문자나 숫자 또는 리스트도 리스트 안에 포함될 수 있습니다."
      ]
    },
    {
      "cell_type": "code",
      "execution_count": 21,
      "metadata": {
        "id": "Zxj3gCVhWJur",
        "outputId": "75f1574b-411c-40d5-928a-126e9a694c51",
        "colab": {
          "base_uri": "https://localhost:8080/"
        }
      },
      "outputs": [
        {
          "output_type": "execute_result",
          "data": {
            "text/plain": [
              "[1, 2, 3, 4, 5]"
            ]
          },
          "metadata": {},
          "execution_count": 21
        }
      ],
      "source": [
        "[1,2,3,4,5]"
      ]
    },
    {
      "cell_type": "code",
      "execution_count": 23,
      "metadata": {
        "id": "n51ydjbPWJur",
        "outputId": "dfee5c66-494f-49eb-d3c5-8dcd33d2de3a",
        "colab": {
          "base_uri": "https://localhost:8080/"
        }
      },
      "outputs": [
        {
          "output_type": "execute_result",
          "data": {
            "text/plain": [
              "['Pearl', 'Lee', 1, 2]"
            ]
          },
          "metadata": {},
          "execution_count": 23
        }
      ],
      "source": [
        "['Pearl','Lee', 1, 2]"
      ]
    },
    {
      "cell_type": "code",
      "execution_count": 24,
      "metadata": {
        "id": "iY4ArymCWJur",
        "outputId": "e1a8acd7-dae3-4cdc-faca-5b19e1438599",
        "colab": {
          "base_uri": "https://localhost:8080/"
        }
      },
      "outputs": [
        {
          "output_type": "execute_result",
          "data": {
            "text/plain": [
              "['a', 'b', ['c', 'd']]"
            ]
          },
          "metadata": {},
          "execution_count": 24
        }
      ],
      "source": [
        "['a', 'b', ['c', 'd']]"
      ]
    },
    {
      "cell_type": "markdown",
      "metadata": {
        "id": "SU2DhP2mWJur"
      },
      "source": [
        "여러 인덱싱 방법이 사용 가능합니다."
      ]
    },
    {
      "cell_type": "code",
      "execution_count": 25,
      "metadata": {
        "id": "wgWbUnzyWJur"
      },
      "outputs": [],
      "source": [
        "letters = ['a', 'b', 'c', 'd', 'e', 'f', 'g']"
      ]
    },
    {
      "cell_type": "code",
      "execution_count": 26,
      "metadata": {
        "id": "cW-j-nMiWJur",
        "outputId": "12f22dd8-bd9b-499e-91c0-a18f77527415",
        "colab": {
          "base_uri": "https://localhost:8080/",
          "height": 35
        }
      },
      "outputs": [
        {
          "output_type": "execute_result",
          "data": {
            "text/plain": [
              "'a'"
            ],
            "application/vnd.google.colaboratory.intrinsic+json": {
              "type": "string"
            }
          },
          "metadata": {},
          "execution_count": 26
        }
      ],
      "source": [
        "letters[0]"
      ]
    },
    {
      "cell_type": "code",
      "execution_count": 28,
      "metadata": {
        "id": "Fy_SyAA9WJur",
        "outputId": "2d72ac83-a9eb-4233-9339-562fc5989b0f",
        "colab": {
          "base_uri": "https://localhost:8080/"
        }
      },
      "outputs": [
        {
          "output_type": "execute_result",
          "data": {
            "text/plain": [
              "['a', 'b']"
            ]
          },
          "metadata": {},
          "execution_count": 28
        }
      ],
      "source": [
        "letters[0:2]   # [start, end)"
      ]
    },
    {
      "cell_type": "code",
      "execution_count": null,
      "metadata": {
        "id": "Akjm1s-wWJur"
      },
      "outputs": [],
      "source": []
    },
    {
      "cell_type": "code",
      "execution_count": null,
      "metadata": {
        "id": "sVtSOnsfWJur"
      },
      "outputs": [],
      "source": []
    },
    {
      "cell_type": "code",
      "execution_count": null,
      "metadata": {
        "id": "GjWrxiaOWJur"
      },
      "outputs": [],
      "source": []
    },
    {
      "cell_type": "code",
      "execution_count": null,
      "metadata": {
        "id": "ywI42gPrWJur"
      },
      "outputs": [],
      "source": []
    },
    {
      "cell_type": "markdown",
      "metadata": {
        "id": "di8m1zG5WJur"
      },
      "source": [
        "슬라이싱 후 값 대입도 가능합니다."
      ]
    },
    {
      "cell_type": "code",
      "execution_count": null,
      "metadata": {
        "id": "Aojgkyd7WJur"
      },
      "outputs": [],
      "source": []
    },
    {
      "cell_type": "code",
      "execution_count": null,
      "metadata": {
        "id": "gQZLdKGSWJur"
      },
      "outputs": [],
      "source": []
    },
    {
      "cell_type": "code",
      "execution_count": null,
      "metadata": {
        "id": "bBQTbnW1WJur"
      },
      "outputs": [],
      "source": []
    },
    {
      "cell_type": "code",
      "execution_count": null,
      "metadata": {
        "id": "8a6PWQToWJur"
      },
      "outputs": [],
      "source": []
    },
    {
      "cell_type": "markdown",
      "metadata": {
        "id": "XACISHVqWJur"
      },
      "source": [
        "중첩된 리스트에서의 슬라이싱은 아래와 같습니다."
      ]
    },
    {
      "cell_type": "code",
      "execution_count": null,
      "metadata": {
        "id": "JiRizd4lWJus"
      },
      "outputs": [],
      "source": []
    },
    {
      "cell_type": "code",
      "execution_count": null,
      "metadata": {
        "id": "8H0em3GdWJuv"
      },
      "outputs": [],
      "source": []
    },
    {
      "cell_type": "code",
      "execution_count": null,
      "metadata": {
        "id": "WlpqJVk7WJuv"
      },
      "outputs": [],
      "source": []
    },
    {
      "cell_type": "code",
      "execution_count": null,
      "metadata": {
        "id": "cBW-RVrFWJuv"
      },
      "outputs": [],
      "source": []
    },
    {
      "cell_type": "markdown",
      "metadata": {
        "id": "Kd06KOcGWJuv"
      },
      "source": [
        "아울러 리스트끼리 연결할 떄는 `+`, 하나의 리스트를 여러번 반복하고 싶을 때 `*`를 사용할 수 있습니다."
      ]
    },
    {
      "cell_type": "code",
      "execution_count": null,
      "metadata": {
        "id": "kFaMcrjJWJuv"
      },
      "outputs": [],
      "source": []
    },
    {
      "cell_type": "code",
      "execution_count": null,
      "metadata": {
        "id": "ep-oCe-JWJuv"
      },
      "outputs": [],
      "source": []
    },
    {
      "cell_type": "markdown",
      "metadata": {
        "id": "5JLg3LCCWJuv"
      },
      "source": [
        "리스트는 하나의 자료형이기 때문에 미리 만들어진 메소드(함수)가 있습니다. 몇 가지를 소개하자면,"
      ]
    },
    {
      "cell_type": "markdown",
      "metadata": {
        "id": "jZrttU4DWJuv"
      },
      "source": [
        "`list.append(x)`는 리스트 끝에 항목을 더합니다."
      ]
    },
    {
      "cell_type": "code",
      "execution_count": null,
      "metadata": {
        "id": "wYeJs5tDWJuv"
      },
      "outputs": [],
      "source": []
    },
    {
      "cell_type": "code",
      "execution_count": null,
      "metadata": {
        "id": "ynaIr5BwWJuv"
      },
      "outputs": [],
      "source": []
    },
    {
      "cell_type": "markdown",
      "metadata": {
        "id": "ZSFKZxOaWJuv"
      },
      "source": [
        "`list.remove(x)`는 x와 같은 첫 번째 항목을 삭제합니다."
      ]
    },
    {
      "cell_type": "code",
      "execution_count": null,
      "metadata": {
        "id": "dcCfebuYWJuv"
      },
      "outputs": [],
      "source": []
    },
    {
      "cell_type": "code",
      "execution_count": null,
      "metadata": {
        "id": "6_ySnQQpWJuv"
      },
      "outputs": [],
      "source": []
    },
    {
      "cell_type": "markdown",
      "metadata": {
        "id": "2tvb4RLrWJuv"
      },
      "source": [
        "```python\n",
        "list.sort(*, key=None, reverse=False)\n",
        "```\n",
        "\n",
        "리스트의 항목을 **제 자리에서** 정렬합니다."
      ]
    },
    {
      "cell_type": "code",
      "execution_count": null,
      "metadata": {
        "id": "jgsQdgvqWJuv"
      },
      "outputs": [],
      "source": []
    },
    {
      "cell_type": "code",
      "execution_count": null,
      "metadata": {
        "id": "goFs0n-DWJuw"
      },
      "outputs": [],
      "source": []
    },
    {
      "cell_type": "code",
      "execution_count": null,
      "metadata": {
        "id": "dYxPwF0bWJuw"
      },
      "outputs": [],
      "source": []
    },
    {
      "cell_type": "code",
      "execution_count": null,
      "metadata": {
        "id": "vIJoTzy-WJuw"
      },
      "outputs": [],
      "source": []
    },
    {
      "cell_type": "code",
      "execution_count": null,
      "metadata": {
        "id": "efovVCFbWJuw"
      },
      "outputs": [],
      "source": []
    },
    {
      "cell_type": "markdown",
      "metadata": {
        "id": "gTxOZK0yJQMs"
      },
      "source": [
        "### 5. 함수"
      ]
    },
    {
      "cell_type": "markdown",
      "metadata": {
        "id": "T3918EmyWJuw"
      },
      "source": [
        "함수의 기본적인 구조는 아래와 같습니다."
      ]
    },
    {
      "cell_type": "markdown",
      "metadata": {
        "id": "saMIGopWWJuw"
      },
      "source": [
        "```python\n",
        "def f(x):\n",
        "    \n",
        "    <처리>\n",
        "\n",
        "    return <결과>\n",
        "```"
      ]
    },
    {
      "cell_type": "markdown",
      "metadata": {
        "id": "Ahp1TlYJWJuw"
      },
      "source": [
        "함수를 정의하면서 연습해봅니다."
      ]
    },
    {
      "cell_type": "code",
      "execution_count": null,
      "metadata": {
        "id": "R_GvaKQTWJuw"
      },
      "outputs": [],
      "source": []
    },
    {
      "cell_type": "code",
      "execution_count": null,
      "metadata": {
        "id": "eRPaeWPwWJuw"
      },
      "outputs": [],
      "source": []
    },
    {
      "cell_type": "code",
      "execution_count": null,
      "metadata": {
        "id": "wKl9axZvWJuw"
      },
      "outputs": [],
      "source": []
    },
    {
      "cell_type": "markdown",
      "metadata": {
        "id": "YglAVuYWWJuw"
      },
      "source": [
        "*docstring*은 다른 사용자가 사용자 정의 함수의 사용법을 알 수 있게 도와줍니다."
      ]
    },
    {
      "cell_type": "code",
      "execution_count": null,
      "metadata": {
        "id": "-tFoTGchWJuw"
      },
      "outputs": [],
      "source": []
    },
    {
      "cell_type": "markdown",
      "metadata": {
        "id": "ZTY5IjerWJuw"
      },
      "source": [
        "`<function>?` 은 함수의 사용방법 확인할 때 사용합니다."
      ]
    },
    {
      "cell_type": "code",
      "execution_count": null,
      "metadata": {
        "id": "yKu25J34WJuw"
      },
      "outputs": [],
      "source": []
    },
    {
      "cell_type": "code",
      "execution_count": null,
      "metadata": {
        "id": "uL9iB2GYWJuw"
      },
      "outputs": [],
      "source": []
    },
    {
      "cell_type": "code",
      "execution_count": null,
      "metadata": {
        "id": "rpEarY39WJuw"
      },
      "outputs": [],
      "source": []
    },
    {
      "cell_type": "code",
      "execution_count": null,
      "metadata": {
        "id": "R0zO-x-LWJuw"
      },
      "outputs": [],
      "source": []
    },
    {
      "cell_type": "code",
      "execution_count": null,
      "metadata": {
        "id": "GjN9Oa0wWJuw"
      },
      "outputs": [],
      "source": []
    },
    {
      "cell_type": "code",
      "execution_count": null,
      "metadata": {
        "id": "03-Zsl7VWJux"
      },
      "outputs": [],
      "source": []
    },
    {
      "cell_type": "markdown",
      "metadata": {
        "id": "m69RgI5bJRl_"
      },
      "source": [
        "### 6. 제어문"
      ]
    },
    {
      "cell_type": "markdown",
      "metadata": {
        "id": "qAKFXSl2WJux"
      },
      "source": [
        "if문의 구조는 아래와 같습니다."
      ]
    },
    {
      "cell_type": "markdown",
      "metadata": {
        "id": "bNw1Urj8WJux"
      },
      "source": [
        "```python\n",
        "if <조건>:\n",
        "    <수행문1>\n",
        "else:\n",
        "    <수행문2>\n",
        "```"
      ]
    },
    {
      "cell_type": "code",
      "execution_count": null,
      "metadata": {
        "id": "OVK2caFtWJux"
      },
      "outputs": [],
      "source": []
    },
    {
      "cell_type": "code",
      "execution_count": null,
      "metadata": {
        "id": "1DTXAlwZWJux"
      },
      "outputs": [],
      "source": []
    },
    {
      "cell_type": "code",
      "execution_count": null,
      "metadata": {
        "id": "s6ponYQfWJux"
      },
      "outputs": [],
      "source": []
    },
    {
      "cell_type": "markdown",
      "metadata": {
        "id": "_8REwvdEWJux"
      },
      "source": [
        "2개 이상의 조건은 아래와 같이 작성할 수 있습니다."
      ]
    },
    {
      "cell_type": "markdown",
      "metadata": {
        "id": "gsddWQ9qWJux"
      },
      "source": [
        "```python\n",
        "if <조건 1>:\n",
        "    <수행문 1>\n",
        "elif <조건 i>:\n",
        "    <수행문 i>\n",
        "else:\n",
        "    <수행문 n>\n",
        "```"
      ]
    },
    {
      "cell_type": "code",
      "execution_count": null,
      "metadata": {
        "id": "mDQ5d3faWJux"
      },
      "outputs": [],
      "source": []
    },
    {
      "cell_type": "code",
      "execution_count": null,
      "metadata": {
        "id": "Oq-Vx2PoWJux"
      },
      "outputs": [],
      "source": []
    },
    {
      "cell_type": "code",
      "execution_count": null,
      "metadata": {
        "id": "jjGLvwKbWJux"
      },
      "outputs": [],
      "source": []
    },
    {
      "cell_type": "markdown",
      "metadata": {
        "id": "NHKUpPZ3WJux"
      },
      "source": [
        "`for` 문은 아래와 같습니다."
      ]
    },
    {
      "cell_type": "markdown",
      "metadata": {
        "id": "h0pntn5PWJux"
      },
      "source": [
        "```python\n",
        "\"for\" <원소(element)> \"in\" <시퀀스> \":\"\n",
        "    suite(실행문)\n",
        "```"
      ]
    },
    {
      "cell_type": "code",
      "execution_count": null,
      "metadata": {
        "id": "obn_-ztuWJux"
      },
      "outputs": [],
      "source": []
    },
    {
      "cell_type": "code",
      "execution_count": null,
      "metadata": {
        "id": "Vn3OOt7sWJux"
      },
      "outputs": [],
      "source": []
    },
    {
      "cell_type": "code",
      "execution_count": null,
      "metadata": {
        "id": "-_2DyyKxWJux"
      },
      "outputs": [],
      "source": []
    },
    {
      "cell_type": "code",
      "execution_count": null,
      "metadata": {
        "id": "fOf2K-c4WJux"
      },
      "outputs": [],
      "source": []
    },
    {
      "cell_type": "code",
      "execution_count": null,
      "metadata": {
        "id": "6fRALpb-WJuy"
      },
      "outputs": [],
      "source": []
    },
    {
      "cell_type": "markdown",
      "metadata": {
        "id": "y7lIT3qfWJuy"
      },
      "source": [
        "`for` 문을 활용해 새로운 리스트를 만들어 봅니다."
      ]
    },
    {
      "cell_type": "code",
      "execution_count": null,
      "metadata": {
        "id": "IxMzOE-jWJuy"
      },
      "outputs": [],
      "source": []
    },
    {
      "cell_type": "code",
      "execution_count": null,
      "metadata": {
        "id": "UytGDTDuWJuy"
      },
      "outputs": [],
      "source": []
    },
    {
      "cell_type": "markdown",
      "metadata": {
        "id": "oyFwK1DPWJuy"
      },
      "source": [
        "`for` 문을 항상 사용해야 하는 것은 아닙니다.\n",
        "\n",
        "(리스트 컴프리헨션 사용)"
      ]
    },
    {
      "cell_type": "code",
      "execution_count": null,
      "metadata": {
        "id": "IMmmrtJGWJuy"
      },
      "outputs": [],
      "source": []
    },
    {
      "cell_type": "code",
      "source": [],
      "metadata": {
        "id": "2l6h2Jzjo4kL"
      },
      "execution_count": null,
      "outputs": []
    },
    {
      "cell_type": "markdown",
      "metadata": {
        "id": "PWu2Lw36WJuy"
      },
      "source": [
        "`while` 문은 표현식(assignment_expression)이 참인 동안 실행을 반복하는 데 사용합니다."
      ]
    },
    {
      "cell_type": "markdown",
      "metadata": {
        "id": "3_o-8yBqWJuy"
      },
      "source": [
        "```\n",
        "while_stmt ::=  \"while\" assignment_expression \":\"\n",
        "                    suite(실행문)\n",
        "```"
      ]
    },
    {
      "cell_type": "code",
      "execution_count": null,
      "metadata": {
        "id": "D1Y3KML1WJuy"
      },
      "outputs": [],
      "source": []
    },
    {
      "cell_type": "markdown",
      "metadata": {
        "id": "olFyy16BWJuy"
      },
      "source": [
        "`break` 문은 반복(loop) 중간에 반복을 멈출 수 있는 방법입니다."
      ]
    },
    {
      "cell_type": "code",
      "execution_count": null,
      "metadata": {
        "id": "SnSWBHF0WJuz"
      },
      "outputs": [],
      "source": []
    },
    {
      "cell_type": "markdown",
      "metadata": {
        "id": "CPrRrQVQWJuz"
      },
      "source": [
        "`while` 문으로 $\\lim_{N \\to \\infty}(1 + \\frac{1}{N})^N$ 을 구해봅시다.\n",
        "\n",
        "$N = 10^i$ ($i = 0, 1, \\dots, 5$)"
      ]
    },
    {
      "cell_type": "code",
      "execution_count": null,
      "metadata": {
        "id": "TbboPSwrWJuz"
      },
      "outputs": [],
      "source": []
    },
    {
      "cell_type": "markdown",
      "metadata": {
        "id": "_Imm-8QkWJuz"
      },
      "source": [
        "소수와 합성수를 가려내는 `prime` 함수를 작성해봅니다."
      ]
    },
    {
      "cell_type": "code",
      "execution_count": null,
      "metadata": {
        "id": "_zXPu0HNWJuz"
      },
      "outputs": [],
      "source": []
    },
    {
      "cell_type": "code",
      "execution_count": null,
      "metadata": {
        "id": "vq3VVAkJWJuz"
      },
      "outputs": [],
      "source": []
    },
    {
      "cell_type": "code",
      "execution_count": null,
      "metadata": {
        "id": "esmrWNp3WJuz"
      },
      "outputs": [],
      "source": []
    },
    {
      "cell_type": "code",
      "execution_count": null,
      "metadata": {
        "id": "FevwfNU2WJuz"
      },
      "outputs": [],
      "source": []
    },
    {
      "cell_type": "code",
      "execution_count": null,
      "metadata": {
        "id": "4HIUpJ8sWJuz"
      },
      "outputs": [],
      "source": []
    },
    {
      "cell_type": "markdown",
      "metadata": {
        "id": "YYgeOisNA2xa"
      },
      "source": [
        "### 7. 외부 라이브러리 불러오기"
      ]
    },
    {
      "cell_type": "markdown",
      "metadata": {
        "id": "4XZleTwsWJuz"
      },
      "source": [
        "```python\n",
        "import <package_name>\n",
        "import <package_name> as <alias>\n",
        "from <package_name> import <module>\n",
        "from <package_name> import *\n",
        "```"
      ]
    },
    {
      "cell_type": "code",
      "execution_count": null,
      "metadata": {
        "id": "LLJsSoaKWJuz"
      },
      "outputs": [],
      "source": []
    },
    {
      "cell_type": "code",
      "execution_count": null,
      "metadata": {
        "id": "U4HZYHjhWJuz"
      },
      "outputs": [],
      "source": []
    },
    {
      "cell_type": "code",
      "execution_count": null,
      "metadata": {
        "id": "INSp3LlcWJu0"
      },
      "outputs": [],
      "source": []
    },
    {
      "cell_type": "markdown",
      "metadata": {
        "id": "B7asoCE1KO7Q"
      },
      "source": [
        "### 참고문헌\n",
        "\n",
        "- 파이썬 자습서, https://docs.python.org/ko/3/tutorial\n",
        "- Project Jupyter, https://en.wikipedia.org/wiki/Project_Jupyter"
      ]
    }
  ],
  "metadata": {
    "colab": {
      "provenance": [],
      "include_colab_link": true
    },
    "kernelspec": {
      "display_name": "Python 3",
      "name": "python3"
    },
    "language_info": {
      "codemirror_mode": {
        "name": "ipython",
        "version": 3
      },
      "file_extension": ".py",
      "mimetype": "text/x-python",
      "name": "python",
      "nbconvert_exporter": "python",
      "pygments_lexer": "ipython3",
      "version": "3.10.12"
    }
  },
  "nbformat": 4,
  "nbformat_minor": 0
}