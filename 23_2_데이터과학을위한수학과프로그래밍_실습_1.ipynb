{
  "cells": [
    {
      "cell_type": "markdown",
      "metadata": {
        "id": "view-in-github",
        "colab_type": "text"
      },
      "source": [
        "<a href=\"https://colab.research.google.com/github/daonly/personal/blob/main/23_2_%EB%8D%B0%EC%9D%B4%ED%84%B0%EA%B3%BC%ED%95%99%EC%9D%84%EC%9C%84%ED%95%9C%EC%88%98%ED%95%99%EA%B3%BC%ED%94%84%EB%A1%9C%EA%B7%B8%EB%9E%98%EB%B0%8D_%EC%8B%A4%EC%8A%B5_1.ipynb\" target=\"_parent\"><img src=\"https://colab.research.google.com/assets/colab-badge.svg\" alt=\"Open In Colab\"/></a>"
      ]
    },
    {
      "cell_type": "markdown",
      "metadata": {
        "id": "B3vk6q0VJpbG"
      },
      "source": [
        "## Python 기본"
      ]
    },
    {
      "cell_type": "markdown",
      "metadata": {
        "id": "6Sg92bAS8oG_"
      },
      "source": [
        "Welcome to Python! Python은 쉬우면서도 강력한 프로그래밍 언어로 데이터 과학 및 기타 분야에서 널리 사용되는 언어입니다.\n",
        "\n",
        "Python을 Google Colaboratory(이하 Colab)에서 실습해봅니다. Colab은 Jupyter Notebook 환경을 Cloud로 제공하는 서비스입니다.\n",
        "\n",
        "Jupyter Notebook은 데이터 과학자가 코드 실행 결과를 바로 확인할 수 있는 장점이 있습니다. 책을 Jupyter Notebook으로만 작성할 수도 있습니다. [(예시)](https://github.com/fastai/fastbook)"
      ]
    },
    {
      "cell_type": "markdown",
      "metadata": {
        "id": "IAZXeoR0-PCY"
      },
      "source": [
        "### 1. 파이썬을 계산기로 사용하기"
      ]
    },
    {
      "cell_type": "markdown",
      "metadata": {
        "id": "qVeZuNqn_6y9"
      },
      "source": [
        "산수를 위해서 더하기는 '+', 빼기는 '-', 곱하기는 '*' 그리고 나누기는 '/' 가 사용됩니다. 괄호 '('와 ')'를 통해 연산 순위를 지정하거나 바꿀 수 있습니다."
      ]
    },
    {
      "cell_type": "code",
      "execution_count": null,
      "metadata": {
        "id": "zGleQEsHFkkR",
        "outputId": "1ae62424-4ad4-4b8e-8a52-95b476925cc3",
        "colab": {
          "base_uri": "https://localhost:8080/"
        }
      },
      "outputs": [
        {
          "output_type": "execute_result",
          "data": {
            "text/plain": [
              "3"
            ]
          },
          "metadata": {},
          "execution_count": 1
        }
      ],
      "source": [
        "# ctrl+enter 하면 cell 실행.\n",
        "# shift+enter 하면 cell 실행 + 다음 cell로 넘어감.\n",
        "\n",
        "1+2"
      ]
    },
    {
      "cell_type": "code",
      "execution_count": null,
      "metadata": {
        "id": "jzXzYGzQFtoU",
        "outputId": "87580528-f3e8-47e5-c498-80a4a31f1c0d",
        "colab": {
          "base_uri": "https://localhost:8080/"
        }
      },
      "outputs": [
        {
          "output_type": "execute_result",
          "data": {
            "text/plain": [
              "8"
            ]
          },
          "metadata": {},
          "execution_count": 2
        }
      ],
      "source": [
        "20-12"
      ]
    },
    {
      "cell_type": "code",
      "execution_count": null,
      "metadata": {
        "id": "vCzpOgmJF3R8"
      },
      "outputs": [],
      "source": []
    },
    {
      "cell_type": "code",
      "execution_count": null,
      "metadata": {
        "id": "jBGz2ZwJF7Pd"
      },
      "outputs": [],
      "source": []
    },
    {
      "cell_type": "code",
      "execution_count": null,
      "metadata": {
        "id": "m6mR9XSwDcfd",
        "outputId": "8ff5f95c-2aac-43a4-f07d-59391f5a93d5",
        "colab": {
          "base_uri": "https://localhost:8080/"
        }
      },
      "outputs": [
        {
          "output_type": "execute_result",
          "data": {
            "text/plain": [
              "66.66666666666667"
            ]
          },
          "metadata": {},
          "execution_count": 3
        }
      ],
      "source": [
        "200/3"
      ]
    },
    {
      "cell_type": "markdown",
      "metadata": {
        "id": "HsbvFM3BDEOn"
      },
      "source": [
        "거듭제곱은 `**` 연산자를 사용합니다."
      ]
    },
    {
      "cell_type": "code",
      "execution_count": null,
      "metadata": {
        "id": "lL07hHouDJS0",
        "outputId": "5a8e189b-6fc6-4988-fe89-55b831448228",
        "colab": {
          "base_uri": "https://localhost:8080/"
        }
      },
      "outputs": [
        {
          "output_type": "execute_result",
          "data": {
            "text/plain": [
              "25"
            ]
          },
          "metadata": {},
          "execution_count": 4
        }
      ],
      "source": [
        "5**2"
      ]
    },
    {
      "cell_type": "markdown",
      "metadata": {
        "id": "GFyKiTfiWJul"
      },
      "source": [
        "몫과 나머지에 대한 연산은 각각 `//`와 `%` 연산자를 사용합니다."
      ]
    },
    {
      "cell_type": "code",
      "execution_count": null,
      "metadata": {
        "id": "Ps0sSBKiWJul",
        "outputId": "21a9aadf-8e5d-4dcd-ccef-342ef7cd7053",
        "colab": {
          "base_uri": "https://localhost:8080/"
        }
      },
      "outputs": [
        {
          "output_type": "execute_result",
          "data": {
            "text/plain": [
              "2"
            ]
          },
          "metadata": {},
          "execution_count": 5
        }
      ],
      "source": [
        "5 // 2"
      ]
    },
    {
      "cell_type": "code",
      "execution_count": null,
      "metadata": {
        "id": "g5iYl2RrWJul",
        "outputId": "8989c99d-19ba-49dd-fbaf-54661cfdc583",
        "colab": {
          "base_uri": "https://localhost:8080/"
        }
      },
      "outputs": [
        {
          "output_type": "execute_result",
          "data": {
            "text/plain": [
              "1"
            ]
          },
          "metadata": {},
          "execution_count": 6
        }
      ],
      "source": [
        "5 % 2"
      ]
    },
    {
      "cell_type": "markdown",
      "metadata": {
        "id": "Suf_O-qIEG9v"
      },
      "source": [
        "### 2. 문자열 사용하기"
      ]
    },
    {
      "cell_type": "markdown",
      "metadata": {
        "id": "2vAM0FidEJvX"
      },
      "source": [
        "Python에서 문자열은 Single quotes나 (`'...'`) Double quotes (`\"...\"`)를 사용합니다."
      ]
    },
    {
      "cell_type": "code",
      "execution_count": null,
      "metadata": {
        "id": "LPWi-KRJDa6h"
      },
      "outputs": [],
      "source": []
    },
    {
      "cell_type": "code",
      "execution_count": null,
      "metadata": {
        "id": "zHOg_StnEiLC"
      },
      "outputs": [],
      "source": []
    },
    {
      "cell_type": "code",
      "execution_count": null,
      "metadata": {
        "id": "U8_ElaHyEp95"
      },
      "outputs": [],
      "source": []
    },
    {
      "cell_type": "markdown",
      "metadata": {
        "id": "iWqYO33mGG9j"
      },
      "source": [
        "따옴표(quotes)를 문자 안에 쓰고 싶을 때, 두 가지 방법이 있습니다."
      ]
    },
    {
      "cell_type": "code",
      "execution_count": null,
      "metadata": {
        "id": "qpjMqhsZFlsF",
        "outputId": "39ee7e9b-5a76-4e12-cef6-8cf190112eac",
        "colab": {
          "base_uri": "https://localhost:8080/",
          "height": 35
        }
      },
      "outputs": [
        {
          "output_type": "execute_result",
          "data": {
            "text/plain": [
              "'\"모자가 멋지군요\" 나는 슬쩍 떠보았다.'"
            ],
            "application/vnd.google.colaboratory.intrinsic+json": {
              "type": "string"
            }
          },
          "metadata": {},
          "execution_count": 7
        }
      ],
      "source": [
        "# 따옴표를 구분해서 쓰면 ㄱㄴ\n",
        "\n",
        "'\"모자가 멋지군요\" 나는 슬쩍 떠보았다.'"
      ]
    },
    {
      "cell_type": "code",
      "execution_count": null,
      "metadata": {
        "id": "yJYtHU_LF1aY",
        "outputId": "fc612537-97f5-4077-b0db-a533f2498a11",
        "colab": {
          "base_uri": "https://localhost:8080/",
          "height": 35
        }
      },
      "outputs": [
        {
          "output_type": "execute_result",
          "data": {
            "text/plain": [
              "'\"모자가 멋지군요\" 나는 슬쩍 떠보았다.'"
            ],
            "application/vnd.google.colaboratory.intrinsic+json": {
              "type": "string"
            }
          },
          "metadata": {},
          "execution_count": 8
        }
      ],
      "source": [
        "# 이스케이프 형식을 사용\n",
        "\"\\\"모자가 멋지군요\\\" 나는 슬쩍 떠보았다.\""
      ]
    },
    {
      "cell_type": "markdown",
      "source": [
        "참고: [w3shcool - Python escape characters](https://www.w3schools.com/python/gloss_python_escape_characters.asp)"
      ],
      "metadata": {
        "id": "x2gyZhVvmhD8"
      }
    },
    {
      "cell_type": "markdown",
      "metadata": {
        "id": "pXNQ_Z2RWJum"
      },
      "source": [
        "`\\` 뒤에 나오는 문자가 특수 문자로 취급되게 하고 싶지 않다면, 첫 따옴표 앞에 r 을 붙여서 날 문자열 (raw string) 을 만들 수 있습니다. `r'<경로>'`는 데이터를 불러올 때 특히 편합니다."
      ]
    },
    {
      "cell_type": "code",
      "execution_count": null,
      "metadata": {
        "id": "gOBFsl0zWJum",
        "outputId": "9f58b976-1207-4ffa-af10-a6571503fac9",
        "colab": {
          "base_uri": "https://localhost:8080/"
        }
      },
      "outputs": [
        {
          "output_type": "stream",
          "name": "stdout",
          "text": [
            "C:\\some\n",
            "ame\n"
          ]
        }
      ],
      "source": [
        "# 경로에서 특수문자가 아니라 그냥 문자열로 취급하게 하려면 이렇게 하면 안됨.\n",
        "print('C:\\some\\name')"
      ]
    },
    {
      "cell_type": "code",
      "execution_count": null,
      "metadata": {
        "id": "B6dPqAvnWJum",
        "outputId": "e028e90a-7d2b-423f-8cfc-c181dfb8fc57",
        "colab": {
          "base_uri": "https://localhost:8080/"
        }
      },
      "outputs": [
        {
          "output_type": "stream",
          "name": "stdout",
          "text": [
            "C:\\some\\name\n"
          ]
        }
      ],
      "source": [
        "print(r'C:\\some\\name')"
      ]
    },
    {
      "cell_type": "markdown",
      "metadata": {
        "id": "z6AwlXOfGwZw"
      },
      "source": [
        "Python에서는 문자를 계산할 수도 있습니다."
      ]
    },
    {
      "cell_type": "code",
      "execution_count": null,
      "metadata": {
        "id": "0af0pMtUGz_B",
        "outputId": "6a7debe5-769e-44fc-cae7-4ee2fea00106",
        "colab": {
          "base_uri": "https://localhost:8080/",
          "height": 35
        }
      },
      "outputs": [
        {
          "output_type": "execute_result",
          "data": {
            "text/plain": [
              "'banana'"
            ],
            "application/vnd.google.colaboratory.intrinsic+json": {
              "type": "string"
            }
          },
          "metadata": {},
          "execution_count": 11
        }
      ],
      "source": [
        "'ba'+'na'*2"
      ]
    },
    {
      "cell_type": "markdown",
      "metadata": {
        "id": "sUDc0ZLmIREQ"
      },
      "source": [
        "두 개 이상의 문자열 리터럴 (즉, 따옴표로 둘러싸인 것들) 가 연속해서 나타나면 자동으로 이어 붙여집니다."
      ]
    },
    {
      "cell_type": "code",
      "execution_count": null,
      "metadata": {
        "id": "QiBuXwL8IZy2",
        "outputId": "bd7e29a6-32e0-4b97-a65a-de6074f84335",
        "colab": {
          "base_uri": "https://localhost:8080/",
          "height": 35
        }
      },
      "outputs": [
        {
          "output_type": "execute_result",
          "data": {
            "text/plain": [
              "'생활양식'"
            ],
            "application/vnd.google.colaboratory.intrinsic+json": {
              "type": "string"
            }
          },
          "metadata": {},
          "execution_count": 12
        }
      ],
      "source": [
        "'생활' '양식'"
      ]
    },
    {
      "cell_type": "code",
      "execution_count": null,
      "metadata": {
        "id": "t2PuM3c6HDN3",
        "outputId": "dd66b98c-3e3e-49ed-f480-427e452c0bc1",
        "colab": {
          "base_uri": "https://localhost:8080/",
          "height": 35
        }
      },
      "outputs": [
        {
          "output_type": "execute_result",
          "data": {
            "text/plain": [
              "'안녕하세요'"
            ],
            "application/vnd.google.colaboratory.intrinsic+json": {
              "type": "string"
            }
          },
          "metadata": {},
          "execution_count": 13
        }
      ],
      "source": [
        "# R의 chain method?처럼 보기 쉬운 코드 만들 때 좋다~\n",
        " ('안녕'\n",
        "'하세요')"
      ]
    },
    {
      "cell_type": "markdown",
      "source": [
        "참고: [Pandas chain method](https://practicaldatascience.co.uk/data-science/how-to-use-method-chaining-in-pandas)"
      ],
      "metadata": {
        "id": "VSKFmhBSm2uy"
      }
    },
    {
      "cell_type": "markdown",
      "metadata": {
        "id": "Xwm-7Rn3JNSC"
      },
      "source": [
        "### 3. 변수"
      ]
    },
    {
      "cell_type": "markdown",
      "metadata": {
        "id": "Qo4W5hCIWJum"
      },
      "source": [
        "변수는 등호 `=` 를 사용하여 할당합니다."
      ]
    },
    {
      "cell_type": "code",
      "execution_count": null,
      "metadata": {
        "id": "GLKknyq6WJum"
      },
      "outputs": [],
      "source": [
        "radius = 2"
      ]
    },
    {
      "cell_type": "code",
      "execution_count": null,
      "metadata": {
        "id": "uY-K-ECiWJum",
        "outputId": "e91a969b-d4e8-40e7-a255-9b477ec00f20",
        "colab": {
          "base_uri": "https://localhost:8080/"
        }
      },
      "outputs": [
        {
          "output_type": "execute_result",
          "data": {
            "text/plain": [
              "12.56"
            ]
          },
          "metadata": {},
          "execution_count": 15
        }
      ],
      "source": [
        "3.14 * (radius**2)"
      ]
    },
    {
      "cell_type": "code",
      "execution_count": null,
      "metadata": {
        "id": "CaZtUYmNWJum",
        "outputId": "9f47a2e9-2b36-47fe-99d7-54a08cb78969",
        "colab": {
          "base_uri": "https://localhost:8080/"
        }
      },
      "outputs": [
        {
          "output_type": "execute_result",
          "data": {
            "text/plain": [
              "9.0"
            ]
          },
          "metadata": {},
          "execution_count": 16
        }
      ],
      "source": [
        "base = 6.0\n",
        "height = 3\n",
        "1/2 * base * height"
      ]
    },
    {
      "cell_type": "markdown",
      "metadata": {
        "id": "J_yjfLlGWJum"
      },
      "source": [
        "변수의 자료형은 `type` 함수를 통해서 확인할 수 있습니다."
      ]
    },
    {
      "cell_type": "code",
      "execution_count": null,
      "metadata": {
        "id": "dqDG947qWJum",
        "outputId": "5f6805b1-40c2-49ac-e0de-4ce29637fc02",
        "colab": {
          "base_uri": "https://localhost:8080/"
        }
      },
      "outputs": [
        {
          "output_type": "execute_result",
          "data": {
            "text/plain": [
              "int"
            ]
          },
          "metadata": {},
          "execution_count": 17
        }
      ],
      "source": [
        "type(radius)"
      ]
    },
    {
      "cell_type": "code",
      "execution_count": null,
      "metadata": {
        "id": "g83zl_swWJum",
        "outputId": "51e066e7-318d-4884-e96d-5af17296498b",
        "colab": {
          "base_uri": "https://localhost:8080/"
        }
      },
      "outputs": [
        {
          "output_type": "execute_result",
          "data": {
            "text/plain": [
              "float"
            ]
          },
          "metadata": {},
          "execution_count": 18
        }
      ],
      "source": [
        "type(base)"
      ]
    },
    {
      "cell_type": "markdown",
      "source": [
        "참고: [w3school - Python data types](https://www.w3schools.com/python/python_datatypes.asp)"
      ],
      "metadata": {
        "id": "RAf8UKrwnUzQ"
      }
    },
    {
      "cell_type": "markdown",
      "metadata": {
        "id": "zET7eiVdJgpA"
      },
      "source": [
        "### 4. 리스트"
      ]
    },
    {
      "cell_type": "markdown",
      "metadata": {
        "id": "2XlyA7R8WJuq"
      },
      "source": [
        "리스트 자료형은 여러 값을 묶는 것에 사용되어, 데이터를 능숙히 다루기 위해서 익숙해지면 좋습니다."
      ]
    },
    {
      "cell_type": "code",
      "execution_count": null,
      "metadata": {
        "id": "duhQc5FhWJuq",
        "outputId": "714e5b9f-0957-4f06-accc-5c608b4433d5",
        "colab": {
          "base_uri": "https://localhost:8080/"
        }
      },
      "outputs": [
        {
          "output_type": "execute_result",
          "data": {
            "text/plain": [
              "[]"
            ]
          },
          "metadata": {},
          "execution_count": 19
        }
      ],
      "source": [
        "list()"
      ]
    },
    {
      "cell_type": "code",
      "execution_count": null,
      "metadata": {
        "id": "qHTZntaBWJuq",
        "outputId": "7496b872-96b0-414e-a68d-d6a5ad071b78",
        "colab": {
          "base_uri": "https://localhost:8080/"
        }
      },
      "outputs": [
        {
          "output_type": "execute_result",
          "data": {
            "text/plain": [
              "[]"
            ]
          },
          "metadata": {},
          "execution_count": 20
        }
      ],
      "source": [
        "[]"
      ]
    },
    {
      "cell_type": "markdown",
      "metadata": {
        "id": "8zqD8kO2WJur"
      },
      "source": [
        "문자나 숫자 또는 리스트도 리스트 안에 포함될 수 있습니다."
      ]
    },
    {
      "cell_type": "code",
      "execution_count": null,
      "metadata": {
        "id": "Zxj3gCVhWJur",
        "outputId": "75f1574b-411c-40d5-928a-126e9a694c51",
        "colab": {
          "base_uri": "https://localhost:8080/"
        }
      },
      "outputs": [
        {
          "output_type": "execute_result",
          "data": {
            "text/plain": [
              "[1, 2, 3, 4, 5]"
            ]
          },
          "metadata": {},
          "execution_count": 21
        }
      ],
      "source": [
        "[1,2,3,4,5]"
      ]
    },
    {
      "cell_type": "code",
      "execution_count": null,
      "metadata": {
        "id": "n51ydjbPWJur",
        "outputId": "dfee5c66-494f-49eb-d3c5-8dcd33d2de3a",
        "colab": {
          "base_uri": "https://localhost:8080/"
        }
      },
      "outputs": [
        {
          "output_type": "execute_result",
          "data": {
            "text/plain": [
              "['Pearl', 'Lee', 1, 2]"
            ]
          },
          "metadata": {},
          "execution_count": 23
        }
      ],
      "source": [
        "['Pearl','Lee', 1, 2]"
      ]
    },
    {
      "cell_type": "code",
      "execution_count": null,
      "metadata": {
        "id": "iY4ArymCWJur",
        "outputId": "e1a8acd7-dae3-4cdc-faca-5b19e1438599",
        "colab": {
          "base_uri": "https://localhost:8080/"
        }
      },
      "outputs": [
        {
          "output_type": "execute_result",
          "data": {
            "text/plain": [
              "['a', 'b', ['c', 'd']]"
            ]
          },
          "metadata": {},
          "execution_count": 24
        }
      ],
      "source": [
        "['a', 'b', ['c', 'd']]"
      ]
    },
    {
      "cell_type": "markdown",
      "metadata": {
        "id": "SU2DhP2mWJur"
      },
      "source": [
        "여러 인덱싱 방법이 사용 가능합니다."
      ]
    },
    {
      "cell_type": "code",
      "execution_count": 13,
      "metadata": {
        "id": "wgWbUnzyWJur"
      },
      "outputs": [],
      "source": [
        "letters = ['a', 'b', 'c', 'd', 'e', 'f', 'g']"
      ]
    },
    {
      "cell_type": "code",
      "execution_count": null,
      "metadata": {
        "id": "cW-j-nMiWJur",
        "outputId": "12f22dd8-bd9b-499e-91c0-a18f77527415",
        "colab": {
          "base_uri": "https://localhost:8080/",
          "height": 35
        }
      },
      "outputs": [
        {
          "output_type": "execute_result",
          "data": {
            "text/plain": [
              "'a'"
            ],
            "application/vnd.google.colaboratory.intrinsic+json": {
              "type": "string"
            }
          },
          "metadata": {},
          "execution_count": 26
        }
      ],
      "source": [
        "letters[0]"
      ]
    },
    {
      "cell_type": "code",
      "execution_count": null,
      "metadata": {
        "id": "Fy_SyAA9WJur",
        "outputId": "2d72ac83-a9eb-4233-9339-562fc5989b0f",
        "colab": {
          "base_uri": "https://localhost:8080/"
        }
      },
      "outputs": [
        {
          "output_type": "execute_result",
          "data": {
            "text/plain": [
              "['a', 'b']"
            ]
          },
          "metadata": {},
          "execution_count": 28
        }
      ],
      "source": [
        "letters[0:2]   # [start, end)"
      ]
    },
    {
      "cell_type": "code",
      "execution_count": 3,
      "metadata": {
        "id": "Akjm1s-wWJur",
        "outputId": "15ab4e19-da65-49d4-9e23-0248b8442ad4",
        "colab": {
          "base_uri": "https://localhost:8080/"
        }
      },
      "outputs": [
        {
          "output_type": "execute_result",
          "data": {
            "text/plain": [
              "['e', 'f', 'g']"
            ]
          },
          "metadata": {},
          "execution_count": 3
        }
      ],
      "source": [
        "letters[4:]"
      ]
    },
    {
      "cell_type": "code",
      "execution_count": 4,
      "metadata": {
        "id": "sVtSOnsfWJur",
        "outputId": "3cc3e118-6004-40fe-c6f2-29a1b614c233",
        "colab": {
          "base_uri": "https://localhost:8080/",
          "height": 35
        }
      },
      "outputs": [
        {
          "output_type": "execute_result",
          "data": {
            "text/plain": [
              "'g'"
            ],
            "application/vnd.google.colaboratory.intrinsic+json": {
              "type": "string"
            }
          },
          "metadata": {},
          "execution_count": 4
        }
      ],
      "source": [
        "letters[-1]"
      ]
    },
    {
      "cell_type": "code",
      "execution_count": 5,
      "metadata": {
        "id": "GjWrxiaOWJur",
        "outputId": "ff49aa8a-b3b5-42d5-ea06-9e6fb5dc7284",
        "colab": {
          "base_uri": "https://localhost:8080/"
        }
      },
      "outputs": [
        {
          "output_type": "execute_result",
          "data": {
            "text/plain": [
              "['a', 'b', 'c', 'd', 'e', 'f', 'g']"
            ]
          },
          "metadata": {},
          "execution_count": 5
        }
      ],
      "source": [
        "letters[:]"
      ]
    },
    {
      "cell_type": "markdown",
      "metadata": {
        "id": "di8m1zG5WJur"
      },
      "source": [
        "슬라이싱 후 값 대입도 가능합니다."
      ]
    },
    {
      "cell_type": "code",
      "execution_count": 7,
      "metadata": {
        "id": "Aojgkyd7WJur",
        "outputId": "477f3a64-c5b3-4673-d00d-fe8fb27173bc",
        "colab": {
          "base_uri": "https://localhost:8080/"
        }
      },
      "outputs": [
        {
          "output_type": "execute_result",
          "data": {
            "text/plain": [
              "['a', 'c', 'e', 'g']"
            ]
          },
          "metadata": {},
          "execution_count": 7
        }
      ],
      "source": [
        "# step을 지정할 수 있음.\n",
        "\n",
        "letters[::2]"
      ]
    },
    {
      "cell_type": "code",
      "execution_count": 8,
      "metadata": {
        "id": "gQZLdKGSWJur",
        "outputId": "004dd981-4317-4a10-ab15-2faef0d5ec46",
        "colab": {
          "base_uri": "https://localhost:8080/"
        }
      },
      "outputs": [
        {
          "output_type": "execute_result",
          "data": {
            "text/plain": [
              "['b', 'd', 'f']"
            ]
          },
          "metadata": {},
          "execution_count": 8
        }
      ],
      "source": [
        "letters[1::2]"
      ]
    },
    {
      "cell_type": "code",
      "execution_count": 10,
      "metadata": {
        "id": "bBQTbnW1WJur"
      },
      "outputs": [],
      "source": [
        "letters[2:5] = ['C', 'D', 'E']"
      ]
    },
    {
      "cell_type": "code",
      "execution_count": 11,
      "metadata": {
        "id": "8a6PWQToWJur",
        "outputId": "c6760bd4-976e-4a17-953d-87e5dbb59da3",
        "colab": {
          "base_uri": "https://localhost:8080/"
        }
      },
      "outputs": [
        {
          "output_type": "execute_result",
          "data": {
            "text/plain": [
              "['a', 'b', 'C', 'D', 'E', 'f', 'g']"
            ]
          },
          "metadata": {},
          "execution_count": 11
        }
      ],
      "source": [
        "letters"
      ]
    },
    {
      "cell_type": "markdown",
      "metadata": {
        "id": "XACISHVqWJur"
      },
      "source": [
        "중첩된 리스트에서의 슬라이싱은 아래와 같습니다."
      ]
    },
    {
      "cell_type": "code",
      "execution_count": 12,
      "metadata": {
        "id": "JiRizd4lWJus"
      },
      "outputs": [],
      "source": [
        "numbers = [1,2,3,4,5,6,7]"
      ]
    },
    {
      "cell_type": "code",
      "execution_count": 14,
      "metadata": {
        "id": "8H0em3GdWJuv"
      },
      "outputs": [],
      "source": [
        "x = [numbers, letters]"
      ]
    },
    {
      "cell_type": "code",
      "execution_count": 15,
      "metadata": {
        "id": "WlpqJVk7WJuv",
        "outputId": "fc341782-9ca0-4ba9-d2af-1c6d11134f2d",
        "colab": {
          "base_uri": "https://localhost:8080/"
        }
      },
      "outputs": [
        {
          "output_type": "execute_result",
          "data": {
            "text/plain": [
              "[[1, 2, 3, 4, 5, 6, 7], ['a', 'b', 'c', 'd', 'e', 'f', 'g']]"
            ]
          },
          "metadata": {},
          "execution_count": 15
        }
      ],
      "source": [
        "x"
      ]
    },
    {
      "cell_type": "code",
      "execution_count": 17,
      "metadata": {
        "id": "cBW-RVrFWJuv",
        "outputId": "61f4ad36-7d46-4120-98a1-39db64f81217",
        "colab": {
          "base_uri": "https://localhost:8080/"
        }
      },
      "outputs": [
        {
          "output_type": "execute_result",
          "data": {
            "text/plain": [
              "['c', 'd', 'e']"
            ]
          },
          "metadata": {},
          "execution_count": 17
        }
      ],
      "source": [
        "x[1][2:5]"
      ]
    },
    {
      "cell_type": "markdown",
      "metadata": {
        "id": "Kd06KOcGWJuv"
      },
      "source": [
        "아울러 리스트끼리 연결할 떄는 `+`, 하나의 리스트를 여러번 반복하고 싶을 때 `*`를 사용할 수 있습니다."
      ]
    },
    {
      "cell_type": "code",
      "execution_count": 18,
      "metadata": {
        "id": "kFaMcrjJWJuv",
        "outputId": "83db26bb-bff6-4469-a3ce-10e787daee71",
        "colab": {
          "base_uri": "https://localhost:8080/"
        }
      },
      "outputs": [
        {
          "output_type": "execute_result",
          "data": {
            "text/plain": [
              "[1, 2, 3, 4, 5, 6, 7, 'a', 'b', 'c', 'd', 'e', 'f', 'g']"
            ]
          },
          "metadata": {},
          "execution_count": 18
        }
      ],
      "source": [
        "numbers + letters"
      ]
    },
    {
      "cell_type": "code",
      "execution_count": 19,
      "metadata": {
        "id": "ep-oCe-JWJuv",
        "outputId": "f0d9423e-ad51-47ae-b4ef-e38893a9e502",
        "colab": {
          "base_uri": "https://localhost:8080/"
        }
      },
      "outputs": [
        {
          "output_type": "execute_result",
          "data": {
            "text/plain": [
              "[1, 2, 3, 4, 5, 6, 7, 1, 2, 3, 4, 5, 6, 7]"
            ]
          },
          "metadata": {},
          "execution_count": 19
        }
      ],
      "source": [
        "numbers * 2"
      ]
    },
    {
      "cell_type": "markdown",
      "metadata": {
        "id": "5JLg3LCCWJuv"
      },
      "source": [
        "리스트는 하나의 자료형이기 때문에 미리 만들어진 메소드(함수)가 있습니다. 몇 가지를 소개하자면,"
      ]
    },
    {
      "cell_type": "markdown",
      "metadata": {
        "id": "jZrttU4DWJuv"
      },
      "source": [
        "`list.append(x)`는 리스트 끝에 항목을 더합니다."
      ]
    },
    {
      "cell_type": "code",
      "execution_count": 20,
      "metadata": {
        "id": "wYeJs5tDWJuv"
      },
      "outputs": [],
      "source": [
        "# python은 object-oriented함.\n",
        "\n",
        "letters.append('h')"
      ]
    },
    {
      "cell_type": "code",
      "execution_count": 21,
      "metadata": {
        "id": "ynaIr5BwWJuv",
        "outputId": "35e2d8d3-47ee-41fb-c308-0496291031fc",
        "colab": {
          "base_uri": "https://localhost:8080/"
        }
      },
      "outputs": [
        {
          "output_type": "execute_result",
          "data": {
            "text/plain": [
              "['a', 'b', 'c', 'd', 'e', 'f', 'g', 'h']"
            ]
          },
          "metadata": {},
          "execution_count": 21
        }
      ],
      "source": [
        "letters"
      ]
    },
    {
      "cell_type": "markdown",
      "metadata": {
        "id": "ZSFKZxOaWJuv"
      },
      "source": [
        "`list.remove(x)`는 x와 같은 첫 번째 항목을 삭제합니다."
      ]
    },
    {
      "cell_type": "code",
      "execution_count": 22,
      "metadata": {
        "id": "dcCfebuYWJuv"
      },
      "outputs": [],
      "source": [
        "letters.remove('h')"
      ]
    },
    {
      "cell_type": "code",
      "execution_count": 23,
      "metadata": {
        "id": "6_ySnQQpWJuv",
        "outputId": "b3d5f7ae-b18e-46db-a827-35a3c732aef2",
        "colab": {
          "base_uri": "https://localhost:8080/"
        }
      },
      "outputs": [
        {
          "output_type": "execute_result",
          "data": {
            "text/plain": [
              "['a', 'b', 'c', 'd', 'e', 'f', 'g']"
            ]
          },
          "metadata": {},
          "execution_count": 23
        }
      ],
      "source": [
        "letters"
      ]
    },
    {
      "cell_type": "markdown",
      "metadata": {
        "id": "2tvb4RLrWJuv"
      },
      "source": [
        "```python\n",
        "list.sort(*, key=None, reverse=False)\n",
        "```\n",
        "\n",
        "리스트의 항목을 **제 자리에서** 정렬합니다."
      ]
    },
    {
      "cell_type": "code",
      "execution_count": 26,
      "metadata": {
        "id": "jgsQdgvqWJuv"
      },
      "outputs": [],
      "source": [
        "letters.sort(reverse = True)"
      ]
    },
    {
      "cell_type": "code",
      "execution_count": 25,
      "metadata": {
        "id": "goFs0n-DWJuw",
        "outputId": "882b7f00-8029-49f6-aec8-58cdf0bd96c4",
        "colab": {
          "base_uri": "https://localhost:8080/"
        }
      },
      "outputs": [
        {
          "output_type": "execute_result",
          "data": {
            "text/plain": [
              "['a', 'b', 'c', 'd', 'e', 'f', 'g']"
            ]
          },
          "metadata": {},
          "execution_count": 25
        }
      ],
      "source": [
        "letters"
      ]
    },
    {
      "cell_type": "code",
      "execution_count": 27,
      "metadata": {
        "id": "dYxPwF0bWJuw",
        "outputId": "87c3b50b-85b2-4109-f158-f7c1a6a39aec",
        "colab": {
          "base_uri": "https://localhost:8080/"
        }
      },
      "outputs": [
        {
          "output_type": "execute_result",
          "data": {
            "text/plain": [
              "['a', 'b', 'c', 'd', 'e', 'f', 'g']"
            ]
          },
          "metadata": {},
          "execution_count": 27
        }
      ],
      "source": [
        "sorted(letters)"
      ]
    },
    {
      "cell_type": "code",
      "execution_count": 30,
      "metadata": {
        "id": "vIJoTzy-WJuw",
        "outputId": "fff115d4-2c18-47fe-d971-e395cd48a11b",
        "colab": {
          "base_uri": "https://localhost:8080/"
        }
      },
      "outputs": [
        {
          "output_type": "execute_result",
          "data": {
            "text/plain": [
              "['g', 'f', 'e', 'd', 'c', 'b', 'a']"
            ]
          },
          "metadata": {},
          "execution_count": 30
        }
      ],
      "source": [
        "letters"
      ]
    },
    {
      "cell_type": "code",
      "execution_count": null,
      "metadata": {
        "id": "efovVCFbWJuw"
      },
      "outputs": [],
      "source": []
    },
    {
      "cell_type": "markdown",
      "metadata": {
        "id": "gTxOZK0yJQMs"
      },
      "source": [
        "### 5. 함수"
      ]
    },
    {
      "cell_type": "markdown",
      "metadata": {
        "id": "T3918EmyWJuw"
      },
      "source": [
        "함수의 기본적인 구조는 아래와 같습니다."
      ]
    },
    {
      "cell_type": "markdown",
      "metadata": {
        "id": "saMIGopWWJuw"
      },
      "source": [
        "```python\n",
        "def f(x):\n",
        "    \n",
        "    <처리>\n",
        "\n",
        "    return <결과>\n",
        "```"
      ]
    },
    {
      "cell_type": "markdown",
      "metadata": {
        "id": "Ahp1TlYJWJuw"
      },
      "source": [
        "함수를 정의하면서 연습해봅니다."
      ]
    },
    {
      "cell_type": "code",
      "execution_count": 31,
      "metadata": {
        "id": "R_GvaKQTWJuw"
      },
      "outputs": [],
      "source": [
        "def f_sum(a,b):\n",
        "  return a + b"
      ]
    },
    {
      "cell_type": "code",
      "execution_count": 32,
      "metadata": {
        "id": "eRPaeWPwWJuw"
      },
      "outputs": [],
      "source": [
        "def f_sum(a, b):\n",
        "  result = a + b\n",
        "  return result"
      ]
    },
    {
      "cell_type": "code",
      "execution_count": 34,
      "metadata": {
        "id": "wKl9axZvWJuw"
      },
      "outputs": [],
      "source": [
        "# 이렇게 한 줄에도 작성 ㄱㄴ\n",
        "\n",
        "def f_sun(a, b): return a+b"
      ]
    },
    {
      "cell_type": "code",
      "source": [
        "f_sum(3, 5)"
      ],
      "metadata": {
        "id": "lOFMNdhQ5NeN",
        "outputId": "49fcb217-97f8-47ec-87c6-bafc59d637c0",
        "colab": {
          "base_uri": "https://localhost:8080/"
        }
      },
      "execution_count": 37,
      "outputs": [
        {
          "output_type": "execute_result",
          "data": {
            "text/plain": [
              "8"
            ]
          },
          "metadata": {},
          "execution_count": 37
        }
      ]
    },
    {
      "cell_type": "markdown",
      "metadata": {
        "id": "YglAVuYWWJuw"
      },
      "source": [
        "*docstring*은 다른 사용자가 사용자 정의 함수의 사용법을 알 수 있게 도와줍니다."
      ]
    },
    {
      "cell_type": "code",
      "execution_count": 43,
      "metadata": {
        "id": "-tFoTGchWJuw"
      },
      "outputs": [],
      "source": [
        "def f_sum(a, b):\n",
        "  '''\n",
        "  Prameters\n",
        "  ---\n",
        "  a: 첫번째 수\n",
        "  b: 두번째 수\n",
        "\n",
        "  Returns\n",
        "  ---\n",
        "  더한 값\n",
        "  '''\n",
        "  result = a+b   #여기서의 result는 함수 안에 정의된 것으로, 함수 밖에서 정의되는 것과는 다름!\n",
        "  return result"
      ]
    },
    {
      "cell_type": "code",
      "source": [
        "f_sum"
      ],
      "metadata": {
        "id": "UuBcv_505qj7",
        "outputId": "ff25a608-8b87-4eb1-8f89-1b113e1fd230",
        "colab": {
          "base_uri": "https://localhost:8080/"
        }
      },
      "execution_count": 41,
      "outputs": [
        {
          "output_type": "execute_result",
          "data": {
            "text/plain": [
              "<function __main__.f_sum(a, b)>"
            ]
          },
          "metadata": {},
          "execution_count": 41
        }
      ]
    },
    {
      "cell_type": "markdown",
      "metadata": {
        "id": "ZTY5IjerWJuw"
      },
      "source": [
        "`<function>?` 은 함수의 사용방법 확인할 때 사용합니다."
      ]
    },
    {
      "cell_type": "code",
      "execution_count": 44,
      "metadata": {
        "id": "yKu25J34WJuw"
      },
      "outputs": [],
      "source": [
        "f_sum?"
      ]
    },
    {
      "cell_type": "code",
      "execution_count": 45,
      "metadata": {
        "id": "uL9iB2GYWJuw"
      },
      "outputs": [],
      "source": [
        "def f_sum(a, b):\n",
        "  '''\n",
        "  Prameters\n",
        "  ---\n",
        "  a: 첫번째 수\n",
        "  b: 두번째 수\n",
        "\n",
        "  Returns\n",
        "  ---\n",
        "  더한 값\n",
        "  '''\n",
        "  print(a+b)"
      ]
    },
    {
      "cell_type": "code",
      "execution_count": 46,
      "metadata": {
        "id": "rpEarY39WJuw",
        "outputId": "8ab6e62d-1c79-453f-cedc-301c2cb6489f",
        "colab": {
          "base_uri": "https://localhost:8080/"
        }
      },
      "outputs": [
        {
          "output_type": "stream",
          "name": "stdout",
          "text": [
            "8\n"
          ]
        }
      ],
      "source": [
        "f_sum(3,5)"
      ]
    },
    {
      "cell_type": "code",
      "execution_count": 47,
      "metadata": {
        "id": "R0zO-x-LWJuw",
        "outputId": "94e50792-fe48-4208-adc5-aa634af31e44",
        "colab": {
          "base_uri": "https://localhost:8080/"
        }
      },
      "outputs": [
        {
          "output_type": "stream",
          "name": "stdout",
          "text": [
            "8\n"
          ]
        }
      ],
      "source": [
        "x = f_sum(3,5)"
      ]
    },
    {
      "cell_type": "code",
      "execution_count": 48,
      "metadata": {
        "id": "GjN9Oa0wWJuw"
      },
      "outputs": [],
      "source": [
        "x"
      ]
    },
    {
      "cell_type": "code",
      "execution_count": 50,
      "metadata": {
        "id": "03-Zsl7VWJux",
        "outputId": "df7fec7c-c53a-4a92-b5a9-c77b8d08e3ef",
        "colab": {
          "base_uri": "https://localhost:8080/"
        }
      },
      "outputs": [
        {
          "output_type": "stream",
          "name": "stdout",
          "text": [
            "None\n"
          ]
        }
      ],
      "source": [
        "# 객체 안에 값이 없으므로 특수한 'None'이라는 자료형으로 나옴.\n",
        "print(x)"
      ]
    },
    {
      "cell_type": "markdown",
      "metadata": {
        "id": "m69RgI5bJRl_"
      },
      "source": [
        "### 6. 제어문"
      ]
    },
    {
      "cell_type": "markdown",
      "metadata": {
        "id": "qAKFXSl2WJux"
      },
      "source": [
        "if문의 구조는 아래와 같습니다."
      ]
    },
    {
      "cell_type": "markdown",
      "metadata": {
        "id": "bNw1Urj8WJux"
      },
      "source": [
        "```python\n",
        "if <조건>:\n",
        "    <수행문1>\n",
        "else:\n",
        "    <수행문2>\n",
        "```"
      ]
    },
    {
      "cell_type": "code",
      "execution_count": 51,
      "metadata": {
        "id": "OVK2caFtWJux"
      },
      "outputs": [],
      "source": [
        "num_of_apples = 4"
      ]
    },
    {
      "cell_type": "code",
      "execution_count": 54,
      "metadata": {
        "id": "1DTXAlwZWJux",
        "outputId": "0c7fa796-70a6-4a64-c168-f60ea02bebb6",
        "colab": {
          "base_uri": "https://localhost:8080/"
        }
      },
      "outputs": [
        {
          "output_type": "stream",
          "name": "stdout",
          "text": [
            "사과가 있다\n"
          ]
        }
      ],
      "source": [
        "# python에서는 1 이상이면 True, 0이면 False라고 보면 됨!\n",
        "\n",
        "if num_of_apples:\n",
        "  print('사과가 있다')\n",
        "else:\n",
        "  print('사과가 없다')"
      ]
    },
    {
      "cell_type": "code",
      "execution_count": 55,
      "metadata": {
        "id": "s6ponYQfWJux",
        "outputId": "8b9b4ce6-3bad-4166-e926-166bcfb6c01a",
        "colab": {
          "base_uri": "https://localhost:8080/"
        }
      },
      "outputs": [
        {
          "output_type": "stream",
          "name": "stdout",
          "text": [
            "사과가 있다\n"
          ]
        }
      ],
      "source": [
        "if True:\n",
        "  print('사과가 있다')\n",
        "else:\n",
        "  print('사과가 없다')"
      ]
    },
    {
      "cell_type": "markdown",
      "metadata": {
        "id": "_8REwvdEWJux"
      },
      "source": [
        "2개 이상의 조건은 아래와 같이 작성할 수 있습니다."
      ]
    },
    {
      "cell_type": "markdown",
      "metadata": {
        "id": "gsddWQ9qWJux"
      },
      "source": [
        "```python\n",
        "if <조건 1>:\n",
        "    <수행문 1>\n",
        "elif <조건 i>:\n",
        "    <수행문 i>\n",
        "else:\n",
        "    <수행문 n>\n",
        "```"
      ]
    },
    {
      "cell_type": "code",
      "execution_count": 56,
      "metadata": {
        "id": "mDQ5d3faWJux"
      },
      "outputs": [],
      "source": [
        "wallet = ['영수증', '신용카드', '명함']"
      ]
    },
    {
      "cell_type": "code",
      "execution_count": 57,
      "metadata": {
        "id": "Oq-Vx2PoWJux",
        "outputId": "8793d204-62bb-4a07-ca50-bbd32b27051e",
        "colab": {
          "base_uri": "https://localhost:8080/"
        }
      },
      "outputs": [
        {
          "output_type": "stream",
          "name": "stdout",
          "text": [
            "외식하자!\n"
          ]
        }
      ],
      "source": [
        "if '현금' in wallet:\n",
        "  print('외식하자~')\n",
        "elif '신용카드' in wallet:\n",
        "  print('외식하자!')\n",
        "else:\n",
        "  print('집에 가쟈...')"
      ]
    },
    {
      "cell_type": "code",
      "execution_count": 58,
      "metadata": {
        "id": "jjGLvwKbWJux",
        "outputId": "3bd311b6-b328-4bea-b067-0fe074e6826a",
        "colab": {
          "base_uri": "https://localhost:8080/"
        }
      },
      "outputs": [
        {
          "output_type": "stream",
          "name": "stdout",
          "text": [
            "외식하자!\n"
          ]
        }
      ],
      "source": [
        "if '현금' in wallet or '신용카드' in wallet:\n",
        "  print('외식하자!')\n",
        "else:\n",
        "  print('집에 가쟈...')"
      ]
    },
    {
      "cell_type": "markdown",
      "metadata": {
        "id": "NHKUpPZ3WJux"
      },
      "source": [
        "`for` 문은 아래와 같습니다."
      ]
    },
    {
      "cell_type": "markdown",
      "metadata": {
        "id": "h0pntn5PWJux"
      },
      "source": [
        "```python\n",
        "\"for\" <원소(element)> \"in\" <시퀀스> \":\"\n",
        "    suite(실행문)\n",
        "```"
      ]
    },
    {
      "cell_type": "code",
      "execution_count": 59,
      "metadata": {
        "id": "obn_-ztuWJux",
        "outputId": "e5887889-6c88-45a6-8328-0dc6debd007d",
        "colab": {
          "base_uri": "https://localhost:8080/"
        }
      },
      "outputs": [
        {
          "output_type": "stream",
          "name": "stdout",
          "text": [
            "1\n",
            "2\n",
            "3\n",
            "4\n"
          ]
        }
      ],
      "source": [
        "for i in [1,2,3,4]: print(i)"
      ]
    },
    {
      "cell_type": "code",
      "execution_count": 60,
      "metadata": {
        "id": "Vn3OOt7sWJux",
        "outputId": "60484ab2-d185-41d0-d230-a97da179bc87",
        "colab": {
          "base_uri": "https://localhost:8080/"
        }
      },
      "outputs": [
        {
          "output_type": "execute_result",
          "data": {
            "text/plain": [
              "range(0, 5)"
            ]
          },
          "metadata": {},
          "execution_count": 60
        }
      ],
      "source": [
        "range(5)"
      ]
    },
    {
      "cell_type": "code",
      "execution_count": 61,
      "metadata": {
        "id": "-_2DyyKxWJux",
        "outputId": "530849b2-113c-4190-a985-89ed67328037",
        "colab": {
          "base_uri": "https://localhost:8080/"
        }
      },
      "outputs": [
        {
          "output_type": "stream",
          "name": "stdout",
          "text": [
            "0\n",
            "1\n",
            "2\n",
            "3\n",
            "4\n"
          ]
        }
      ],
      "source": [
        "for i in range(5): print(i)"
      ]
    },
    {
      "cell_type": "code",
      "execution_count": 62,
      "metadata": {
        "id": "fOf2K-c4WJux",
        "outputId": "3df77600-2f62-4ec5-d36b-dca8b9ac5533",
        "colab": {
          "base_uri": "https://localhost:8080/"
        }
      },
      "outputs": [
        {
          "output_type": "execute_result",
          "data": {
            "text/plain": [
              "7"
            ]
          },
          "metadata": {},
          "execution_count": 62
        }
      ],
      "source": [
        "len(letters)"
      ]
    },
    {
      "cell_type": "code",
      "execution_count": 63,
      "metadata": {
        "id": "6fRALpb-WJuy",
        "outputId": "52cfa080-0873-4efc-ae91-1d7b9e3b6102",
        "colab": {
          "base_uri": "https://localhost:8080/"
        }
      },
      "outputs": [
        {
          "output_type": "stream",
          "name": "stdout",
          "text": [
            "0 g\n",
            "1 f\n",
            "2 e\n",
            "3 d\n",
            "4 c\n",
            "5 b\n",
            "6 a\n"
          ]
        }
      ],
      "source": [
        "for idx in range(len(letters)): print(idx, letters[idx])"
      ]
    },
    {
      "cell_type": "markdown",
      "metadata": {
        "id": "y7lIT3qfWJuy"
      },
      "source": [
        "`for` 문을 활용해 새로운 리스트를 만들어 봅니다."
      ]
    },
    {
      "cell_type": "code",
      "execution_count": null,
      "metadata": {
        "id": "IxMzOE-jWJuy"
      },
      "outputs": [],
      "source": [
        "a = [1,2,3,4]"
      ]
    },
    {
      "cell_type": "code",
      "execution_count": null,
      "metadata": {
        "id": "UytGDTDuWJuy"
      },
      "outputs": [],
      "source": [
        "a_squares = []\n",
        "\n",
        "for num in a: a_squares.append(num**2)\n",
        "\n",
        "a_squares"
      ]
    },
    {
      "cell_type": "markdown",
      "metadata": {
        "id": "oyFwK1DPWJuy"
      },
      "source": [
        "`for` 문을 항상 사용해야 하는 것은 아닙니다.\n",
        "\n",
        "(리스트 컴프리헨션 사용)"
      ]
    },
    {
      "cell_type": "code",
      "execution_count": 67,
      "metadata": {
        "id": "IMmmrtJGWJuy",
        "outputId": "6442aa3c-d978-47af-d9e8-db40e731364f",
        "colab": {
          "base_uri": "https://localhost:8080/"
        }
      },
      "outputs": [
        {
          "output_type": "execute_result",
          "data": {
            "text/plain": [
              "[1, 4, 9, 16]"
            ]
          },
          "metadata": {},
          "execution_count": 67
        }
      ],
      "source": [
        "[num**2 for num in a]"
      ]
    },
    {
      "cell_type": "code",
      "source": [],
      "metadata": {
        "id": "2l6h2Jzjo4kL"
      },
      "execution_count": null,
      "outputs": []
    },
    {
      "cell_type": "markdown",
      "metadata": {
        "id": "PWu2Lw36WJuy"
      },
      "source": [
        "`while` 문은 표현식(assignment_expression)이 참인 동안 실행을 반복하는 데 사용합니다."
      ]
    },
    {
      "cell_type": "markdown",
      "metadata": {
        "id": "3_o-8yBqWJuy"
      },
      "source": [
        "```\n",
        "while_stmt ::=  \"while\" assignment_expression \":\"\n",
        "                    suite(실행문)\n",
        "```"
      ]
    },
    {
      "cell_type": "code",
      "execution_count": 68,
      "metadata": {
        "id": "D1Y3KML1WJuy",
        "outputId": "4c979424-f569-4348-ec53-1e4a623eb700",
        "colab": {
          "base_uri": "https://localhost:8080/"
        }
      },
      "outputs": [
        {
          "output_type": "stream",
          "name": "stdout",
          "text": [
            "1\n",
            "2\n",
            "3\n",
            "4\n",
            "5\n",
            "6\n",
            "7\n",
            "8\n",
            "9\n",
            "10\n"
          ]
        }
      ],
      "source": [
        "i = 0\n",
        "\n",
        "while i < 10:\n",
        "  i += 1\n",
        "  print(i)"
      ]
    },
    {
      "cell_type": "markdown",
      "metadata": {
        "id": "olFyy16BWJuy"
      },
      "source": [
        "`break` 문은 반복(loop) 중간에 반복을 멈출 수 있는 방법입니다."
      ]
    },
    {
      "cell_type": "code",
      "execution_count": 69,
      "metadata": {
        "id": "SnSWBHF0WJuz",
        "outputId": "726f83e3-a231-4558-bbfd-eeac080d8f90",
        "colab": {
          "base_uri": "https://localhost:8080/"
        }
      },
      "outputs": [
        {
          "output_type": "stream",
          "name": "stdout",
          "text": [
            "1\n",
            "2\n",
            "3\n",
            "4\n",
            "5\n",
            "6\n",
            "7\n"
          ]
        }
      ],
      "source": [
        "i = 0\n",
        "\n",
        "while i < 10:\n",
        "  i += 1\n",
        "  print(i)\n",
        "\n",
        "  if i == 7:\n",
        "    break"
      ]
    },
    {
      "cell_type": "markdown",
      "metadata": {
        "id": "CPrRrQVQWJuz"
      },
      "source": [
        "`while` 문으로 $\\lim_{N \\to \\infty}(1 + \\frac{1}{N})^N$ 을 구해봅시다.\n",
        "\n",
        "$N = 10^i$ ($i = 0, 1, \\dots, 5$)"
      ]
    },
    {
      "cell_type": "code",
      "execution_count": 70,
      "metadata": {
        "id": "TbboPSwrWJuz",
        "outputId": "bb499cb5-9ac1-4b62-bf0e-f35d7521127e",
        "colab": {
          "base_uri": "https://localhost:8080/"
        }
      },
      "outputs": [
        {
          "output_type": "stream",
          "name": "stdout",
          "text": [
            "2.0\n",
            "2.5937424601000023\n",
            "2.7048138294215285\n",
            "2.7169239322355936\n",
            "2.7181459268249255\n",
            "2.7182682371922975\n"
          ]
        }
      ],
      "source": [
        "i = 0\n",
        "\n",
        "while i <= 5:\n",
        "  N = 10**i\n",
        "  print((1 + 1/N)**N)\n",
        "  i+=1"
      ]
    },
    {
      "cell_type": "markdown",
      "metadata": {
        "id": "_Imm-8QkWJuz"
      },
      "source": [
        "소수와 합성수를 가려내는 `prime` 함수를 작성해봅니다."
      ]
    },
    {
      "cell_type": "markdown",
      "source": [],
      "metadata": {
        "id": "SO06Bgz6_9W4"
      }
    },
    {
      "cell_type": "code",
      "execution_count": 73,
      "metadata": {
        "id": "_zXPu0HNWJuz"
      },
      "outputs": [],
      "source": [
        "def prime(x):\n",
        "\n",
        "  i = 1\n",
        "\n",
        "  while i < x:\n",
        "    i += 1\n",
        "    if x % i == 0:\n",
        "      break\n",
        "  if x == i:\n",
        "    return \"소수\"\n",
        "  else:\n",
        "    return \"합성수\""
      ]
    },
    {
      "cell_type": "code",
      "execution_count": 74,
      "metadata": {
        "id": "vq3VVAkJWJuz",
        "outputId": "f31f08ee-5334-4c0e-b464-e2b5d6ce57b0",
        "colab": {
          "base_uri": "https://localhost:8080/",
          "height": 35
        }
      },
      "outputs": [
        {
          "output_type": "execute_result",
          "data": {
            "text/plain": [
              "'소수'"
            ],
            "application/vnd.google.colaboratory.intrinsic+json": {
              "type": "string"
            }
          },
          "metadata": {},
          "execution_count": 74
        }
      ],
      "source": [
        "prime(7)"
      ]
    },
    {
      "cell_type": "code",
      "execution_count": 75,
      "metadata": {
        "id": "esmrWNp3WJuz",
        "outputId": "bd550714-26fb-400d-c8d2-765b365b2460",
        "colab": {
          "base_uri": "https://localhost:8080/",
          "height": 35
        }
      },
      "outputs": [
        {
          "output_type": "execute_result",
          "data": {
            "text/plain": [
              "'합성수'"
            ],
            "application/vnd.google.colaboratory.intrinsic+json": {
              "type": "string"
            }
          },
          "metadata": {},
          "execution_count": 75
        }
      ],
      "source": [
        "prime(8)"
      ]
    },
    {
      "cell_type": "code",
      "execution_count": 76,
      "metadata": {
        "id": "FevwfNU2WJuz"
      },
      "outputs": [],
      "source": [
        "def prime_list_comp(x):\n",
        "  if len([i for i in range(2,x) if x%i == 0]) == 0:\n",
        "    return '소수'\n",
        "  else:\n",
        "    return '합성수'"
      ]
    },
    {
      "cell_type": "code",
      "execution_count": 79,
      "metadata": {
        "id": "4HIUpJ8sWJuz",
        "outputId": "a14bf23c-b5d2-4e4c-81e8-fa6980eb386a",
        "colab": {
          "base_uri": "https://localhost:8080/",
          "height": 35
        }
      },
      "outputs": [
        {
          "output_type": "execute_result",
          "data": {
            "text/plain": [
              "'합성수'"
            ],
            "application/vnd.google.colaboratory.intrinsic+json": {
              "type": "string"
            }
          },
          "metadata": {},
          "execution_count": 79
        }
      ],
      "source": [
        "prime_list_comp(10)"
      ]
    },
    {
      "cell_type": "markdown",
      "metadata": {
        "id": "YYgeOisNA2xa"
      },
      "source": [
        "### 7. 외부 라이브러리 불러오기"
      ]
    },
    {
      "cell_type": "markdown",
      "metadata": {
        "id": "4XZleTwsWJuz"
      },
      "source": [
        "```python\n",
        "import <package_name>\n",
        "import <package_name> as <alias>\n",
        "from <package_name> import <module>\n",
        "from <package_name> import *\n",
        "```"
      ]
    },
    {
      "cell_type": "code",
      "execution_count": 77,
      "metadata": {
        "id": "LLJsSoaKWJuz"
      },
      "outputs": [],
      "source": [
        "import numpy as np"
      ]
    },
    {
      "cell_type": "code",
      "execution_count": 78,
      "metadata": {
        "id": "U4HZYHjhWJuz"
      },
      "outputs": [],
      "source": [
        "np.dot?"
      ]
    },
    {
      "cell_type": "code",
      "execution_count": null,
      "metadata": {
        "id": "INSp3LlcWJu0"
      },
      "outputs": [],
      "source": []
    },
    {
      "cell_type": "markdown",
      "metadata": {
        "id": "B7asoCE1KO7Q"
      },
      "source": [
        "### 참고문헌\n",
        "\n",
        "- 파이썬 자습서, https://docs.python.org/ko/3/tutorial\n",
        "- Project Jupyter, https://en.wikipedia.org/wiki/Project_Jupyter"
      ]
    }
  ],
  "metadata": {
    "colab": {
      "provenance": [],
      "include_colab_link": true
    },
    "kernelspec": {
      "display_name": "Python 3",
      "name": "python3"
    },
    "language_info": {
      "codemirror_mode": {
        "name": "ipython",
        "version": 3
      },
      "file_extension": ".py",
      "mimetype": "text/x-python",
      "name": "python",
      "nbconvert_exporter": "python",
      "pygments_lexer": "ipython3",
      "version": "3.10.12"
    }
  },
  "nbformat": 4,
  "nbformat_minor": 0
}